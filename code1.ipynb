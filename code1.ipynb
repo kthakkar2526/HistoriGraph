{
 "cells": [
  {
   "cell_type": "code",
   "execution_count": 1,
   "metadata": {},
   "outputs": [
    {
     "name": "stdout",
     "output_type": "stream",
     "text": [
      "\n",
      "\u001b[1m[\u001b[0m\u001b[34;49mnotice\u001b[0m\u001b[1;39;49m]\u001b[0m\u001b[39;49m A new release of pip is available: \u001b[0m\u001b[31;49m24.3.1\u001b[0m\u001b[39;49m -> \u001b[0m\u001b[32;49m25.0.1\u001b[0m\n",
      "\u001b[1m[\u001b[0m\u001b[34;49mnotice\u001b[0m\u001b[1;39;49m]\u001b[0m\u001b[39;49m To update, run: \u001b[0m\u001b[32;49mpip install --upgrade pip\u001b[0m\n",
      "Note: you may need to restart the kernel to use updated packages.\n"
     ]
    }
   ],
   "source": [
    "%pip install --upgrade --quiet  langchain langchain-community langchain-openai langchain-experimental neo4j wikipedia tiktoken yfiles_jupyter_graphs\n",
    "     "
   ]
  },
  {
   "cell_type": "code",
   "execution_count": 69,
   "metadata": {},
   "outputs": [],
   "source": [
    "\n",
    "from langchain_core.runnables import (\n",
    "    RunnableBranch,\n",
    "    RunnableLambda,\n",
    "    RunnableParallel,\n",
    "    RunnablePassthrough,\n",
    ")"
   ]
  },
  {
   "cell_type": "code",
   "execution_count": 70,
   "metadata": {},
   "outputs": [],
   "source": [
    "from langchain_core.prompts import ChatPromptTemplate\n",
    "from langchain_core.prompts.prompt import PromptTemplate"
   ]
  },
  {
   "cell_type": "code",
   "execution_count": null,
   "metadata": {},
   "outputs": [],
   "source": [
    "import os\n",
    "OPENAI_API_KEY = os.getenv(\"OPENAI_API_KEY\")"
   ]
  },
  {
   "cell_type": "code",
   "execution_count": 72,
   "metadata": {},
   "outputs": [],
   "source": [
    "\n",
    "from typing import Tuple, List, Optional"
   ]
  },
  {
   "cell_type": "code",
   "execution_count": 73,
   "metadata": {},
   "outputs": [],
   "source": [
    "from langchain_core.messages import AIMessage, HumanMessage\n",
    "from langchain_core.output_parsers import StrOutputParser\n",
    "     "
   ]
  },
  {
   "cell_type": "code",
   "execution_count": 74,
   "metadata": {},
   "outputs": [],
   "source": [
    "from langchain_core.runnables import ConfigurableField\n",
    "     \n",
    "\n",
    "from yfiles_jupyter_graphs import GraphWidget\n",
    "from neo4j import GraphDatabase\n",
    "\n",
    "     \n",
    "\n",
    "import os"
   ]
  },
  {
   "cell_type": "code",
   "execution_count": 75,
   "metadata": {},
   "outputs": [],
   "source": [
    "try:\n",
    "  import google.colab\n",
    "  from google.colab import output\n",
    "  output.enable_custom_widget_manager()\n",
    "except:\n",
    "  pass\n",
    "     \n",
    "\n",
    "from langchain_community.vectorstores import Neo4jVector"
   ]
  },
  {
   "cell_type": "code",
   "execution_count": 76,
   "metadata": {},
   "outputs": [],
   "source": [
    "NEO4J_URI=\"neo4j+s://2c755919.databases.neo4j.io\"\n",
    "NEO4J_USERNAME=\"neo4j\"\n",
    "NEO4J_PASSWORD=\"RGUjiPrFzwTsjFig0gc743rKroP-PqLYPc0q7fvcSEM\"\n",
    "     "
   ]
  },
  {
   "cell_type": "code",
   "execution_count": 77,
   "metadata": {},
   "outputs": [],
   "source": [
    "os.environ[\"OPENAI_API_KEY\"] = OPENAI_API_KEY\n",
    "os.environ[\"NEO4J_URI\"] = NEO4J_URI\n",
    "os.environ[\"NEO4J_USERNAME\"] = NEO4J_USERNAME\n",
    "os.environ[\"NEO4J_PASSWORD\"] = NEO4J_PASSWORD"
   ]
  },
  {
   "cell_type": "code",
   "execution_count": 78,
   "metadata": {},
   "outputs": [],
   "source": [
    "from langchain_community.graphs import Neo4jGraph"
   ]
  },
  {
   "cell_type": "code",
   "execution_count": 79,
   "metadata": {},
   "outputs": [],
   "source": [
    "graph = Neo4jGraph()"
   ]
  },
  {
   "cell_type": "code",
   "execution_count": 83,
   "metadata": {},
   "outputs": [
    {
     "name": "stdout",
     "output_type": "stream",
     "text": [
      "[{'COUNT(n)': 0}]\n"
     ]
    }
   ],
   "source": [
    "print(graph.query(\"MATCH (n) RETURN COUNT(n)\"))  # Should return 0"
   ]
  },
  {
   "cell_type": "code",
   "execution_count": 84,
   "metadata": {},
   "outputs": [
    {
     "name": "stderr",
     "output_type": "stream",
     "text": [
      "/Library/Frameworks/Python.framework/Versions/3.12/lib/python3.12/site-packages/wikipedia/wikipedia.py:389: GuessedAtParserWarning: No parser was explicitly specified, so I'm using the best available HTML parser for this system (\"lxml\"). This usually isn't a problem, but if you run this code on another system, or in a different virtual environment, it may use a different parser and behave differently.\n",
      "\n",
      "The code that caused this warning is on line 389 of the file /Library/Frameworks/Python.framework/Versions/3.12/lib/python3.12/site-packages/wikipedia/wikipedia.py. To get rid of this warning, pass the additional argument 'features=\"lxml\"' to the BeautifulSoup constructor.\n",
      "\n",
      "  lis = BeautifulSoup(html).find_all('li')\n"
     ]
    }
   ],
   "source": [
    "from langchain.document_loaders import WikipediaLoader\n",
    "raw_documents = WikipediaLoader(query=\"Elizabeth I\").load()"
   ]
  },
  {
   "cell_type": "code",
   "execution_count": 85,
   "metadata": {},
   "outputs": [
    {
     "data": {
      "text/plain": [
       "24"
      ]
     },
     "execution_count": 85,
     "metadata": {},
     "output_type": "execute_result"
    }
   ],
   "source": [
    "len(raw_documents)"
   ]
  },
  {
   "cell_type": "code",
   "execution_count": 86,
   "metadata": {},
   "outputs": [
    {
     "data": {
      "text/plain": [
       "[Document(metadata={'title': 'Elizabeth I', 'summary': 'Elizabeth I (7 September 1533 – 24 March 1603) was Queen of England and Ireland from 17 November 1558 until her death in 1603. She was the last and longest reigning monarch of the House of Tudor. Her eventful reign, and its effect on history and culture, gave name to the Elizabethan era.\\nElizabeth was the only surviving child of Henry VIII and his second wife, Anne Boleyn. When Elizabeth was two years old, her parents\\' marriage was annulled, her mother was executed, and Elizabeth was declared illegitimate. Henry restored her to the line of succession when she was 10, via the Third Succession Act 1543. After Henry\\'s death in 1547, Elizabeth\\'s younger half-brother Edward VI ruled until his own death in 1553, bequeathing the crown to a Protestant cousin, Lady Jane Grey, and ignoring the claims of his two half-sisters, the Catholic Mary and the younger Elizabeth, in spite of statutes to the contrary. Edward\\'s will was set aside within weeks of his death and Mary became queen, deposing and executing Jane. During Mary\\'s reign, Elizabeth was imprisoned for nearly a year on suspicion of supporting Protestant rebels.\\nUpon her half-sister\\'s death in 1558, Elizabeth succeeded to the throne and set out to rule by good counsel. She depended heavily on a group of trusted advisers led by William Cecil, whom she created Baron Burghley. One of her first actions as queen was the establishment of an English Protestant church, of which she became the supreme governor. This arrangement, later named the Elizabethan Religious Settlement, would evolve into the Church of England. It was expected that Elizabeth would marry and produce an heir; however, despite numerous courtships, she never did. Because of this she is sometimes referred to as the \"Virgin Queen\". She was eventually succeeded by her first cousin twice removed, James VI of Scotland.\\nIn government, Elizabeth was more moderate than her father and siblings had been. One of her mottoes was video et taceo (\"I see and keep silent\"). In religion, she was relatively tolerant and avoided systematic persecution. After the pope declared her illegitimate in 1570, which in theory released English Catholics from allegiance to her, several conspiracies threatened her life, all of which were defeated with the help of her ministers\\' secret service, run by Sir Francis Walsingham. Elizabeth was cautious in foreign affairs, manoeuvring between the major powers of France and Spain. She half-heartedly supported a number of ineffective, poorly resourced military campaigns in the Netherlands, France, and Ireland. By the mid-1580s, England could no longer avoid war with Spain.\\nAs she grew older, Elizabeth became celebrated for her virginity. A cult of personality grew around her which was celebrated in the portraits, pageants, and literature of the day. The Elizabethan era is famous for the flourishing of English drama, led by playwrights such as William Shakespeare and Christopher Marlowe, the prowess of English maritime adventurers, such as Francis Drake and Walter Raleigh, and for the defeat of the Spanish Armada. Some historians depict Elizabeth as a short-tempered, sometimes indecisive ruler, who enjoyed more than her fair share of luck. Towards the end of her reign, a series of economic and military problems weakened her popularity. Elizabeth is acknowledged as a charismatic performer (\"Gloriana\") and a dogged survivor (\"Good Queen Bess\") in an era when government was ramshackle and limited, and when monarchs in neighbouring countries faced internal problems that jeopardised their thrones. After the short, disastrous reigns of her half-siblings, her 44 years on the throne provided welcome stability for the kingdom and helped to forge a sense of national identity.', 'source': 'https://en.wikipedia.org/wiki/Elizabeth_I'}, page_content='Elizabeth I (7 September 1533 – 24 March 1603) was Queen of England and Ireland from 17 November 1558 until her death in 1603. She was the last and longest reigning monarch of the House of Tudor. Her eventful reign, and its effect on history and culture, gave name to the Elizabethan era.\\nElizabeth was the only surviving child of Henry VIII and his second wife, Anne Boleyn. When Elizabeth was two years old, her parents\\' marriage was annulled, her mother was executed, and Elizabeth was declared illegitimate. Henry restored her to the line of succession when she was 10, via the Third Succession Act 1543. After Henry\\'s death in 1547, Elizabeth\\'s younger half-brother Edward VI ruled until his own death in 1553, bequeathing the crown to a Protestant cousin, Lady Jane Grey, and ignoring the claims of his two half-sisters, the Catholic Mary and the younger Elizabeth, in spite of statutes to the contrary. Edward\\'s will was set aside within weeks of his death and Mary became queen, deposing and executing Jane. During Mary\\'s reign, Elizabeth was imprisoned for nearly a year on suspicion of supporting Protestant rebels.\\nUpon her half-sister\\'s death in 1558, Elizabeth succeeded to the throne and set out to rule by good counsel. She depended heavily on a group of trusted advisers led by William Cecil, whom she created Baron Burghley. One of her first actions as queen was the establishment of an English Protestant church, of which she became the supreme governor. This arrangement, later named the Elizabethan Religious Settlement, would evolve into the Church of England. It was expected that Elizabeth would marry and produce an heir; however, despite numerous courtships, she never did. Because of this she is sometimes referred to as the \"Virgin Queen\". She was eventually succeeded by her first cousin twice removed, James VI of Scotland.\\nIn government, Elizabeth was more moderate than her father and siblings had been. One of her mottoes was video et taceo (\"I see and keep silent\"). In religion, she was relatively tolerant and avoided systematic persecution. After the pope declared her illegitimate in 1570, which in theory released English Catholics from allegiance to her, several conspiracies threatened her life, all of which were defeated with the help of her ministers\\' secret service, run by Sir Francis Walsingham. Elizabeth was cautious in foreign affairs, manoeuvring between the major powers of France and Spain. She half-heartedly supported a number of ineffective, poorly resourced military campaigns in the Netherlands, France, and Ireland. By the mid-1580s, England could no longer avoid war with Spain.\\nAs she grew older, Elizabeth became celebrated for her virginity. A cult of personality grew around her which was celebrated in the portraits, pageants, and literature of the day. The Elizabethan era is famous for the flourishing of English drama, led by playwrights such as William Shakespeare and Christopher Marlowe, the prowess of English maritime adventurers, such as Francis Drake and Walter Raleigh, and for the defeat of the Spanish Armada. Some historians depict Elizabeth as a short-tempered, sometimes indecisive ruler, who enjoyed more than her fair share of luck. Towards the end of her reign, a series of economic and military problems weakened her popularity. Elizabeth is acknowledged as a charismatic performer (\"Gloriana\") and a dogged survivor (\"Good Queen Bess\") in an era when government was ramshackle and limited, and when monarchs in neighbouring countries faced internal problems that jeopardised their thrones. After the short, disastrous reigns of her half-siblings, her 44 years on the throne provided welcome stability for the kingdom and helped to forge a sense of national identity.\\n\\n\\n== Early life ==\\n\\nElizabeth was born at Greenwich Palace on 7 September 1533 and was named after her grandmothers, Elizabeth of York and Lady Elizabeth Howard. She was the second child of Henry VIII of England born in wedlock to survive infancy. '),\n",
       " Document(metadata={'title': 'Elizabeth of Russia', 'summary': \"Elizabeth or Elizaveta Petrovna (Russian: Елизаве́та Петро́вна; 29 December [O.S. 18 December] 1709 – 5 January [O.S. 25 December] 1762) was Empress of Russia from 1741 until her death in 1762. She remains one of the most popular Russian monarchs because of her decision not to execute a single person during her reign, her numerous construction projects, and her strong opposition to Prussian policies.\\nThe second-eldest daughter of Tsar Peter the Great (r.\\u20091682–1725), Elizabeth lived through the confused successions of her father's descendants following her half-brother Alexei's death in 1718. The throne first passed to her mother Catherine I of Russia (r.\\u20091725–1727), then to her nephew Peter II, who died in 1730 and was succeeded by Elizabeth's first cousin Anna (r.\\u20091730–1740). After the brief rule of Anna's infant great-nephew, Ivan VI, Elizabeth seized the throne with the military's support and declared her own nephew, the future Peter III, her heir.\\nDuring her reign Elizabeth continued the policies of her father and brought about a remarkable Age of Enlightenment in Russia. Her domestic policies allowed the nobles to gain dominance in local government while shortening their terms of service to the state. She encouraged Mikhail Lomonosov's foundation of the University of Moscow, the highest-ranking Russian educational institution. Her court became one of the most splendid in all Europe, especially regarding architecture: she modernised Russia's roads, encouraged Ivan Shuvalov's foundation of the Imperial Academy of Arts, and financed grandiose Baroque projects of her favourite architect, Bartolomeo Rastrelli, particularly in Peterhof Palace. The Winter Palace and the Smolny Cathedral in Saint Petersburg are among the chief monuments of her reign.\\nElizabeth led the Russian Empire during the two major European conflicts of her time: the War of Austrian Succession (1740–1748) and the Seven Years' War (1756–1763). She and diplomat Aleksey Bestuzhev-Ryumin solved the first event by forming an alliance with Austria and France, but indirectly caused the second. Russian troops enjoyed several victories against Prussia and briefly occupied Berlin, but when Frederick the Great was finally considering surrender in January 1762, the Russian Empress died. She was the last agnatic member of the House of Romanov to reign over the Russian Empire.\", 'source': 'https://en.wikipedia.org/wiki/Elizabeth_of_Russia'}, page_content='Elizabeth or Elizaveta Petrovna (Russian: Елизаве́та Петро́вна; 29 December [O.S. 18 December] 1709 – 5 January [O.S. 25 December] 1762) was Empress of Russia from 1741 until her death in 1762. She remains one of the most popular Russian monarchs because of her decision not to execute a single person during her reign, her numerous construction projects, and her strong opposition to Prussian policies.\\nThe second-eldest daughter of Tsar Peter the Great (r.\\u20091682–1725), Elizabeth lived through the confused successions of her father\\'s descendants following her half-brother Alexei\\'s death in 1718. The throne first passed to her mother Catherine I of Russia (r.\\u20091725–1727), then to her nephew Peter II, who died in 1730 and was succeeded by Elizabeth\\'s first cousin Anna (r.\\u20091730–1740). After the brief rule of Anna\\'s infant great-nephew, Ivan VI, Elizabeth seized the throne with the military\\'s support and declared her own nephew, the future Peter III, her heir.\\nDuring her reign Elizabeth continued the policies of her father and brought about a remarkable Age of Enlightenment in Russia. Her domestic policies allowed the nobles to gain dominance in local government while shortening their terms of service to the state. She encouraged Mikhail Lomonosov\\'s foundation of the University of Moscow, the highest-ranking Russian educational institution. Her court became one of the most splendid in all Europe, especially regarding architecture: she modernised Russia\\'s roads, encouraged Ivan Shuvalov\\'s foundation of the Imperial Academy of Arts, and financed grandiose Baroque projects of her favourite architect, Bartolomeo Rastrelli, particularly in Peterhof Palace. The Winter Palace and the Smolny Cathedral in Saint Petersburg are among the chief monuments of her reign.\\nElizabeth led the Russian Empire during the two major European conflicts of her time: the War of Austrian Succession (1740–1748) and the Seven Years\\' War (1756–1763). She and diplomat Aleksey Bestuzhev-Ryumin solved the first event by forming an alliance with Austria and France, but indirectly caused the second. Russian troops enjoyed several victories against Prussia and briefly occupied Berlin, but when Frederick the Great was finally considering surrender in January 1762, the Russian Empress died. She was the last agnatic member of the House of Romanov to reign over the Russian Empire.\\n\\n\\n== Early life ==\\n\\n\\n=== Childhood and teenage years ===\\n\\nElizabeth was born at Kolomenskoye, near Moscow, Russia, on 18 December 1709 (O.S.). Her parents were Peter the Great, Tsar of Russia and Catherine. Catherine was the daughter of Samuel Skowroński, a subject of Grand Duchy of Lithuania. Although no documentary record exists, her parents were said to have married secretly at the Cathedral of the Holy Trinity in Saint Petersburg at some point between 23 October and 1 December 1707. Their official marriage was at Saint Isaac\\'s Cathedral in Saint Petersburg on 9 February 1712. On this day, the two children previously born to the couple (Anna and Elizabeth) were legitimised by their father and given the title of Tsarevna (\"princess\") on 6 March 1711. Of the twelve children born to Peter and Catherine (five sons and seven daughters), only the sisters survived to adulthood. They had one older surviving sibling, crown prince Alexei Petrovich, who was Peter\\'s son by his first wife, noblewoman Eudoxia Lopukhina.\\nAs a child, Elizabeth was the favourite of her father, whom she resembled both physically and temperamentally. Even though he adored his daughter, Peter did not devote time or attention to her education; having both a son and grandson from his first marriage to a noblewoman, he did not anticipate that a daughter born to his former maid might one day inherit the Russian throne, which had until that point never been occupied by a woman; as such, it was left to Catherine to raise the girls, a task met with considerable difficulty due to her own lack of education. Despite this, Elizabeth was still '),\n",
       " Document(metadata={'title': 'Succession to Elizabeth I', 'summary': 'The succession to the childless queen of England Elizabeth I was an open question from her accession in 1558 to her death in 1603, when the crown passed to James VI of Scotland, an event known as the Union of the Crowns. While the accession of James went smoothly, the succession had been the subject of much debate for decades. In some scholarly views, it was a major political factor of the entire reign, even if not so voiced. Separate aspects have acquired their own nomenclature: the \"Norfolk conspiracy\", Patrick Collinson\\'s \"Elizabethan exclusion crisis\", the \"Secret Correspondence\", and the \"Valentine Thomas affair\".\\nThe topics of debate remained obscured by uncertainty.\\nElizabeth I avoided establishing the order of succession in any form, presumably because she feared for her own life once a successor was named.  She was also concerned with England forming a productive relationship with Scotland, whose Catholic and Presbyterian strongholds were resistant to female leadership. Catholic women who would be submissive to the Pope and not to English constitutional law were rejected.\\nThe will of Elizabeth\\'s father, Henry VIII, had named one male and seven females living at his death in 1547 as the line of succession: (1) his son Edward VI, (2) Mary I, (3) Elizabeth I, (4) Jane Grey, (5) Katherine Grey, (6) Mary Grey, and (7) Margaret Clifford. By 1596, Elizabeth had outlived all others.\\nA number of authorities considered that the legal position hinged on documents such as the statute De natis ultra mare of Edward III, and the will of Henry VIII. There were different opinions about the application of these documents. Political, religious and military matters came to predominate later in Elizabeth\\'s reign, in the context of the Anglo-Spanish War.', 'source': 'https://en.wikipedia.org/wiki/Succession_to_Elizabeth_I'}, page_content='The succession to the childless queen of England Elizabeth I was an open question from her accession in 1558 to her death in 1603, when the crown passed to James VI of Scotland, an event known as the Union of the Crowns. While the accession of James went smoothly, the succession had been the subject of much debate for decades. In some scholarly views, it was a major political factor of the entire reign, even if not so voiced. Separate aspects have acquired their own nomenclature: the \"Norfolk conspiracy\", Patrick Collinson\\'s \"Elizabethan exclusion crisis\", the \"Secret Correspondence\", and the \"Valentine Thomas affair\".\\nThe topics of debate remained obscured by uncertainty.\\nElizabeth I avoided establishing the order of succession in any form, presumably because she feared for her own life once a successor was named.  She was also concerned with England forming a productive relationship with Scotland, whose Catholic and Presbyterian strongholds were resistant to female leadership. Catholic women who would be submissive to the Pope and not to English constitutional law were rejected.\\nThe will of Elizabeth\\'s father, Henry VIII, had named one male and seven females living at his death in 1547 as the line of succession: (1) his son Edward VI, (2) Mary I, (3) Elizabeth I, (4) Jane Grey, (5) Katherine Grey, (6) Mary Grey, and (7) Margaret Clifford. By 1596, Elizabeth had outlived all others.\\nA number of authorities considered that the legal position hinged on documents such as the statute De natis ultra mare of Edward III, and the will of Henry VIII. There were different opinions about the application of these documents. Political, religious and military matters came to predominate later in Elizabeth\\'s reign, in the context of the Anglo-Spanish War.\\n\\n\\n== Cognatic descent from Henry VII ==\\nDescent from the two daughters of Henry VII who reached adulthood, Margaret and Mary, was the first and main issue in the succession. \\n\\n\\n=== Lennox claim ===\\nMary I of England had died without managing to have her preferred successor and first cousin, Margaret Douglas, Countess of Lennox, nominated by parliament. Margaret Douglas was a daughter of Margaret Tudor, and lived to 1578, but became a marginal figure in discussions of the succession to Elizabeth I, who at no point clarified the dynastic issues of the Tudor line. When in 1565 Margaret Douglas\\'s elder son Henry Stuart, Lord Darnley, married Mary, Queen of Scots, the \"Lennox claim\" was generally regarded as consolidated into the \"Stuart claim\".\\n\\n\\n=== Stuart claimants ===\\nJames VI was the son of two grandchildren of Margaret Tudor. Arbella Stuart, the most serious other contender by the late 16th century, was the daughter of Margaret Douglas, Countess of Lennox\\'s younger son Charles Stuart, 1st Earl of Lennox.\\nJames VI\\'s mother, Mary, Queen of Scots, was considered a plausible successor to the English throne. At the beginning of Elizabeth\\'s reign she sent ambassadors to England when a parliament was summoned, anticipating a role for parliament in settling the succession in her favour. Mary was a Roman Catholic, and her proximity to the succession was a factor in plotting, including the Throckmorton plot and the Babington plot, making her position a political problem for the English government, eventually resolved by judicial means. She was executed in 1587. In that year, Mary\\'s son James reached the age of twenty-one, while Arbella was only twelve.\\n\\n\\n=== Suffolk claimants ===\\nWhile the Stuart line of James and Arbella would have had political support, by 1600 the descendants of Mary Tudor were theoretically relevant, and on legal grounds could not be discounted. Frances Grey, Duchess of Suffolk, and Eleanor Clifford, Countess of Cumberland, both had children who were in the line of succession. Frances and Eleanor were Mary Tudor\\'s daughters by her second husband, Charles Brandon, 1st Duke of Suffolk. Frances married Henry Grey, 1st Duke of Suffolk, and they had three daughters, Lady Jane Grey (')]"
      ]
     },
     "execution_count": 86,
     "metadata": {},
     "output_type": "execute_result"
    }
   ],
   "source": [
    "raw_documents[:3]"
   ]
  },
  {
   "cell_type": "code",
   "execution_count": 87,
   "metadata": {},
   "outputs": [],
   "source": [
    "from langchain.text_splitter import TokenTextSplitter\n",
    "text_splitter = TokenTextSplitter(chunk_size=512, chunk_overlap=24)\n",
    "documents = text_splitter.split_documents(raw_documents[:3])"
   ]
  },
  {
   "cell_type": "code",
   "execution_count": 88,
   "metadata": {},
   "outputs": [
    {
     "name": "stdout",
     "output_type": "stream",
     "text": [
      "<class 'list'>\n",
      "<class 'langchain_core.documents.base.Document'>\n"
     ]
    }
   ],
   "source": [
    "print(type(documents))  # Should be <class 'list'>\n",
    "print(type(documents[0]))  # Should be <class 'langchain_core.documents.Document'>"
   ]
  },
  {
   "cell_type": "code",
   "execution_count": 92,
   "metadata": {},
   "outputs": [
    {
     "name": "stdout",
     "output_type": "stream",
     "text": [
      "page_content='Elizabeth I (7 September 1533 – 24 March 1603) was Queen of England and Ireland from 17 November 1558 until her death in 1603. She was the last and longest reigning monarch of the House of Tudor. Her eventful reign, and its effect on history and culture, gave name to the Elizabethan era.\n",
      "Elizabeth was the only surviving child of Henry VIII and his second wife, Anne Boleyn. When Elizabeth was two years old, her parents' marriage was annulled, her mother was executed, and Elizabeth was declared illegitimate. Henry restored her to the line of succession when she was 10, via the Third Succession Act 1543. After Henry's death in 1547, Elizabeth's younger half-brother Edward VI ruled until his own death in 1553, bequeathing the crown to a Protestant cousin, Lady Jane Grey, and ignoring the claims of his two half-sisters, the Catholic Mary and the younger Elizabeth, in spite of statutes to the contrary. Edward's will was set aside within weeks of his death and Mary became queen, deposing and executing Jane. During Mary's reign, Elizabeth was imprisoned for nearly a year on suspicion of supporting Protestant rebels.\n",
      "Upon her half-sister's death in 1558, Elizabeth succeeded to the throne and set out to rule by good counsel. She depended heavily on a group of trusted advisers led by William Cecil, whom she created Baron Burghley. One of her first actions as queen was the establishment of an English Protestant church, of which she became the supreme governor. This arrangement, later named the Elizabethan Religious Settlement, would evolve into the Church of England. It was expected that Elizabeth would marry and produce an heir; however, despite numerous courtships, she never did. Because of this she is sometimes referred to as the \"Virgin Queen\". She was eventually succeeded by her first cousin twice removed, James VI of Scotland.\n",
      "In government, Elizabeth was more moderate than her father and siblings had been. One of her mottoes was video et taceo (\"I see and keep silent\"). In religion, she was relatively tolerant and avoided systematic persecution. After the pope declared her illegitimate in 1570, which in theory released English Catholics from allegiance to her, several conspiracies threatened her life, all of which were defeated with the help of her ministers' secret service, run by Sir Francis Walsingham. Elizabeth was cautious in foreign affairs, manoeuvring between the major powers of France and Spain. She half-heartedly supported a' metadata={'title': 'Elizabeth I', 'summary': 'Elizabeth I (7 September 1533 – 24 March 1603) was Queen of England and Ireland from 17 November 1558 until her death in 1603. She was the last and longest reigning monarch of the House of Tudor. Her eventful reign, and its effect on history and culture, gave name to the Elizabethan era.\\nElizabeth was the only surviving child of Henry VIII and his second wife, Anne Boleyn. When Elizabeth was two years old, her parents\\' marriage was annulled, her mother was executed, and Elizabeth was declared illegitimate. Henry restored her to the line of succession when she was 10, via the Third Succession Act 1543. After Henry\\'s death in 1547, Elizabeth\\'s younger half-brother Edward VI ruled until his own death in 1553, bequeathing the crown to a Protestant cousin, Lady Jane Grey, and ignoring the claims of his two half-sisters, the Catholic Mary and the younger Elizabeth, in spite of statutes to the contrary. Edward\\'s will was set aside within weeks of his death and Mary became queen, deposing and executing Jane. During Mary\\'s reign, Elizabeth was imprisoned for nearly a year on suspicion of supporting Protestant rebels.\\nUpon her half-sister\\'s death in 1558, Elizabeth succeeded to the throne and set out to rule by good counsel. She depended heavily on a group of trusted advisers led by William Cecil, whom she created Baron Burghley. One of her first actions as queen was the establishment of an English Protestant church, of which she became the supreme governor. This arrangement, later named the Elizabethan Religious Settlement, would evolve into the Church of England. It was expected that Elizabeth would marry and produce an heir; however, despite numerous courtships, she never did. Because of this she is sometimes referred to as the \"Virgin Queen\". She was eventually succeeded by her first cousin twice removed, James VI of Scotland.\\nIn government, Elizabeth was more moderate than her father and siblings had been. One of her mottoes was video et taceo (\"I see and keep silent\"). In religion, she was relatively tolerant and avoided systematic persecution. After the pope declared her illegitimate in 1570, which in theory released English Catholics from allegiance to her, several conspiracies threatened her life, all of which were defeated with the help of her ministers\\' secret service, run by Sir Francis Walsingham. Elizabeth was cautious in foreign affairs, manoeuvring between the major powers of France and Spain. She half-heartedly supported a number of ineffective, poorly resourced military campaigns in the Netherlands, France, and Ireland. By the mid-1580s, England could no longer avoid war with Spain.\\nAs she grew older, Elizabeth became celebrated for her virginity. A cult of personality grew around her which was celebrated in the portraits, pageants, and literature of the day. The Elizabethan era is famous for the flourishing of English drama, led by playwrights such as William Shakespeare and Christopher Marlowe, the prowess of English maritime adventurers, such as Francis Drake and Walter Raleigh, and for the defeat of the Spanish Armada. Some historians depict Elizabeth as a short-tempered, sometimes indecisive ruler, who enjoyed more than her fair share of luck. Towards the end of her reign, a series of economic and military problems weakened her popularity. Elizabeth is acknowledged as a charismatic performer (\"Gloriana\") and a dogged survivor (\"Good Queen Bess\") in an era when government was ramshackle and limited, and when monarchs in neighbouring countries faced internal problems that jeopardised their thrones. After the short, disastrous reigns of her half-siblings, her 44 years on the throne provided welcome stability for the kingdom and helped to forge a sense of national identity.', 'source': 'https://en.wikipedia.org/wiki/Elizabeth_I'}\n"
     ]
    }
   ],
   "source": [
    "print(documents[0]) "
   ]
  },
  {
   "cell_type": "code",
   "execution_count": 93,
   "metadata": {},
   "outputs": [
    {
     "name": "stdout",
     "output_type": "stream",
     "text": [
      "<class 'dict'>\n",
      "Key: title, Type: <class 'str'>\n",
      "Key: summary, Type: <class 'str'>\n",
      "Key: source, Type: <class 'str'>\n",
      "<class 'dict'>\n",
      "Key: title, Type: <class 'str'>\n",
      "Key: summary, Type: <class 'str'>\n",
      "Key: source, Type: <class 'str'>\n",
      "<class 'dict'>\n",
      "Key: title, Type: <class 'str'>\n",
      "Key: summary, Type: <class 'str'>\n",
      "Key: source, Type: <class 'str'>\n",
      "<class 'dict'>\n",
      "Key: title, Type: <class 'str'>\n",
      "Key: summary, Type: <class 'str'>\n",
      "Key: source, Type: <class 'str'>\n",
      "<class 'dict'>\n",
      "Key: title, Type: <class 'str'>\n",
      "Key: summary, Type: <class 'str'>\n",
      "Key: source, Type: <class 'str'>\n",
      "<class 'dict'>\n",
      "Key: title, Type: <class 'str'>\n",
      "Key: summary, Type: <class 'str'>\n",
      "Key: source, Type: <class 'str'>\n"
     ]
    }
   ],
   "source": [
    "for doc in documents:\n",
    "    print(type(doc.metadata))  # Should be <class 'dict'>\n",
    "    for key, value in doc.metadata.items():\n",
    "        print(f\"Key: {key}, Type: {type(value)}\")  # Check if any value is a list"
   ]
  },
  {
   "cell_type": "code",
   "execution_count": 89,
   "metadata": {},
   "outputs": [],
   "source": [
    "from langchain_community.llms import Ollama\n",
    "from langchain_experimental.graph_transformers import LLMGraphTransformer\n",
    "llm = Ollama(model=\"mistral\")"
   ]
  },
  {
   "cell_type": "code",
   "execution_count": 90,
   "metadata": {},
   "outputs": [],
   "source": [
    "from langchain_experimental.graph_transformers import LLMGraphTransformer\n",
    "\n",
    "# Initialize transformer with the local Ollama model\n",
    "llm_transformer = LLMGraphTransformer(llm=llm)"
   ]
  },
  {
   "cell_type": "code",
   "execution_count": null,
   "metadata": {},
   "outputs": [
    {
     "name": "stdout",
     "output_type": "stream",
     "text": [
      "✅ Document 0 processed successfully\n",
      "❌ Error in Document 1: unhashable type: 'list'\n",
      "Metadata of failing doc: {'title': 'Elizabeth I', 'summary': 'Elizabeth I (7 September 1533 – 24 March 1603) was Queen of England and Ireland from 17 November 1558 until her death in 1603. She was the last and longest reigning monarch of the House of Tudor. Her eventful reign, and its effect on history and culture, gave name to the Elizabethan era.\\nElizabeth was the only surviving child of Henry VIII and his second wife, Anne Boleyn. When Elizabeth was two years old, her parents\\' marriage was annulled, her mother was executed, and Elizabeth was declared illegitimate. Henry restored her to the line of succession when she was 10, via the Third Succession Act 1543. After Henry\\'s death in 1547, Elizabeth\\'s younger half-brother Edward VI ruled until his own death in 1553, bequeathing the crown to a Protestant cousin, Lady Jane Grey, and ignoring the claims of his two half-sisters, the Catholic Mary and the younger Elizabeth, in spite of statutes to the contrary. Edward\\'s will was set aside within weeks of his death and Mary became queen, deposing and executing Jane. During Mary\\'s reign, Elizabeth was imprisoned for nearly a year on suspicion of supporting Protestant rebels.\\nUpon her half-sister\\'s death in 1558, Elizabeth succeeded to the throne and set out to rule by good counsel. She depended heavily on a group of trusted advisers led by William Cecil, whom she created Baron Burghley. One of her first actions as queen was the establishment of an English Protestant church, of which she became the supreme governor. This arrangement, later named the Elizabethan Religious Settlement, would evolve into the Church of England. It was expected that Elizabeth would marry and produce an heir; however, despite numerous courtships, she never did. Because of this she is sometimes referred to as the \"Virgin Queen\". She was eventually succeeded by her first cousin twice removed, James VI of Scotland.\\nIn government, Elizabeth was more moderate than her father and siblings had been. One of her mottoes was video et taceo (\"I see and keep silent\"). In religion, she was relatively tolerant and avoided systematic persecution. After the pope declared her illegitimate in 1570, which in theory released English Catholics from allegiance to her, several conspiracies threatened her life, all of which were defeated with the help of her ministers\\' secret service, run by Sir Francis Walsingham. Elizabeth was cautious in foreign affairs, manoeuvring between the major powers of France and Spain. She half-heartedly supported a number of ineffective, poorly resourced military campaigns in the Netherlands, France, and Ireland. By the mid-1580s, England could no longer avoid war with Spain.\\nAs she grew older, Elizabeth became celebrated for her virginity. A cult of personality grew around her which was celebrated in the portraits, pageants, and literature of the day. The Elizabethan era is famous for the flourishing of English drama, led by playwrights such as William Shakespeare and Christopher Marlowe, the prowess of English maritime adventurers, such as Francis Drake and Walter Raleigh, and for the defeat of the Spanish Armada. Some historians depict Elizabeth as a short-tempered, sometimes indecisive ruler, who enjoyed more than her fair share of luck. Towards the end of her reign, a series of economic and military problems weakened her popularity. Elizabeth is acknowledged as a charismatic performer (\"Gloriana\") and a dogged survivor (\"Good Queen Bess\") in an era when government was ramshackle and limited, and when monarchs in neighbouring countries faced internal problems that jeopardised their thrones. After the short, disastrous reigns of her half-siblings, her 44 years on the throne provided welcome stability for the kingdom and helped to forge a sense of national identity.', 'source': 'https://en.wikipedia.org/wiki/Elizabeth_I'}\n"
     ]
    }
   ],
   "source": [
    "fixed_documents = [\n",
    "    Document(\n",
    "        page_content=str(doc.page_content).strip(),  # Ensure it's a clean string\n",
    "        metadata={k: tuple(v) if isinstance(v, list) else str(v) for k, v in doc.metadata.items()}\n",
    "    )\n",
    "    for doc in documents\n",
    "]\n",
    "\n",
    "graph_documents = []\n",
    "for i, doc in enumerate(fixed_documents):\n",
    "    try:\n",
    "        result = llm_transformer.convert_to_graph_documents([doc])  # Process individually\n",
    "        graph_documents.extend(result)\n",
    "        print(f\"✅ Document {i} processed successfully\")\n",
    "    except Exception as e:\n",
    "        print(f\"❌ Error in Document {i}: {e}\")\n",
    "        print(f\"Metadata of failing doc: {doc.metadata}\")\n",
    "        break  # Stop at the first failing document"
   ]
  },
  {
   "cell_type": "code",
   "execution_count": 110,
   "metadata": {},
   "outputs": [
    {
     "name": "stdout",
     "output_type": "stream",
     "text": [
      "Key: title, Type: <class 'str'>, Value: Elizabeth I\n",
      "Key: summary, Type: <class 'str'>, Value: Elizabeth I (7 September 1533 – 24 March 1603) was Queen of England and Ireland from 17 November 1558 until her death in 1603. She was the last and longest reigning monarch of the House of Tudor. Her eventful reign, and its effect on history and culture, gave name to the Elizabethan era.\n",
      "Elizabeth was the only surviving child of Henry VIII and his second wife, Anne Boleyn. When Elizabeth was two years old, her parents' marriage was annulled, her mother was executed, and Elizabeth was declared illegitimate. Henry restored her to the line of succession when she was 10, via the Third Succession Act 1543. After Henry's death in 1547, Elizabeth's younger half-brother Edward VI ruled until his own death in 1553, bequeathing the crown to a Protestant cousin, Lady Jane Grey, and ignoring the claims of his two half-sisters, the Catholic Mary and the younger Elizabeth, in spite of statutes to the contrary. Edward's will was set aside within weeks of his death and Mary became queen, deposing and executing Jane. During Mary's reign, Elizabeth was imprisoned for nearly a year on suspicion of supporting Protestant rebels.\n",
      "Upon her half-sister's death in 1558, Elizabeth succeeded to the throne and set out to rule by good counsel. She depended heavily on a group of trusted advisers led by William Cecil, whom she created Baron Burghley. One of her first actions as queen was the establishment of an English Protestant church, of which she became the supreme governor. This arrangement, later named the Elizabethan Religious Settlement, would evolve into the Church of England. It was expected that Elizabeth would marry and produce an heir; however, despite numerous courtships, she never did. Because of this she is sometimes referred to as the \"Virgin Queen\". She was eventually succeeded by her first cousin twice removed, James VI of Scotland.\n",
      "In government, Elizabeth was more moderate than her father and siblings had been. One of her mottoes was video et taceo (\"I see and keep silent\"). In religion, she was relatively tolerant and avoided systematic persecution. After the pope declared her illegitimate in 1570, which in theory released English Catholics from allegiance to her, several conspiracies threatened her life, all of which were defeated with the help of her ministers' secret service, run by Sir Francis Walsingham. Elizabeth was cautious in foreign affairs, manoeuvring between the major powers of France and Spain. She half-heartedly supported a number of ineffective, poorly resourced military campaigns in the Netherlands, France, and Ireland. By the mid-1580s, England could no longer avoid war with Spain.\n",
      "As she grew older, Elizabeth became celebrated for her virginity. A cult of personality grew around her which was celebrated in the portraits, pageants, and literature of the day. The Elizabethan era is famous for the flourishing of English drama, led by playwrights such as William Shakespeare and Christopher Marlowe, the prowess of English maritime adventurers, such as Francis Drake and Walter Raleigh, and for the defeat of the Spanish Armada. Some historians depict Elizabeth as a short-tempered, sometimes indecisive ruler, who enjoyed more than her fair share of luck. Towards the end of her reign, a series of economic and military problems weakened her popularity. Elizabeth is acknowledged as a charismatic performer (\"Gloriana\") and a dogged survivor (\"Good Queen Bess\") in an era when government was ramshackle and limited, and when monarchs in neighbouring countries faced internal problems that jeopardised their thrones. After the short, disastrous reigns of her half-siblings, her 44 years on the throne provided welcome stability for the kingdom and helped to forge a sense of national identity.\n",
      "Key: source, Type: <class 'str'>, Value: https://en.wikipedia.org/wiki/Elizabeth_I\n"
     ]
    }
   ],
   "source": [
    "for key, value in documents[1].metadata.items():\n",
    "    print(f\"Key: {key}, Type: {type(value)}, Value: {value}\")"
   ]
  },
  {
   "cell_type": "code",
   "execution_count": 120,
   "metadata": {},
   "outputs": [
    {
     "name": "stdout",
     "output_type": "stream",
     "text": [
      "✅ Document 0 processed successfully\n",
      "✅ Document 1 processed successfully\n",
      "✅ Document 2 processed successfully\n",
      "✅ Document 3 processed successfully\n",
      "✅ Document 4 processed successfully\n",
      "✅ Document 5 processed successfully\n"
     ]
    }
   ],
   "source": [
    "graph_documents = []\n",
    "\n",
    "for i, doc in enumerate(fixed_documents):\n",
    "    try:\n",
    "        result = llm_transformer.convert_to_graph_documents([doc])  # Process one at a time\n",
    "        graph_documents.extend(result)\n",
    "        print(f\"✅ Document {i} processed successfully\")\n",
    "    except Exception as e:\n",
    "        print(f\"❌ Error in Document {i}: {e}\")\n",
    "        print(f\"Metadata of failing doc: {doc.metadata}\")\n",
    "        break  # Stop at first failure"
   ]
  },
  {
   "cell_type": "code",
   "execution_count": 121,
   "metadata": {},
   "outputs": [
    {
     "data": {
      "text/plain": [
       "[GraphDocument(nodes=[Node(id='James VI of Scotland', type='Person', properties={}), Node(id='Mary I', type='Person', properties={}), Node(id='William Cecil', type='Person', properties={}), Node(id='Burghley', type='Title', properties={}), Node(id='England', type='Country', properties={}), Node(id='Edward VI', type='Person', properties={}), Node(id='Elizabeth I', type='Person', properties={}), Node(id='Henry VIII', type='Person', properties={}), Node(id='Lady Jane Grey', type='Person', properties={}), Node(id='Ireland', type='Country', properties={}), Node(id='House of Tudor', type='Dynasty', properties={})], relationships=[Relationship(source=Node(id='Elizabeth I', type='Person', properties={}), target=Node(id='England', type='Country', properties={}), type='RULES_ON', properties={}), Relationship(source=Node(id='Elizabeth I', type='Person', properties={}), target=Node(id='Ireland', type='Country', properties={}), type='RULES_ON', properties={}), Relationship(source=Node(id='Elizabeth I', type='Person', properties={}), target=Node(id='House of Tudor', type='Dynasty', properties={}), type='LASTED_REIGN', properties={}), Relationship(source=Node(id='Elizabeth I', type='Person', properties={}), target=Node(id='Henry VIII', type='Person', properties={}), type='RULES_AFTER', properties={}), Relationship(source=Node(id='Edward VI', type='Person', properties={}), target=Node(id='Elizabeth I', type='Person', properties={}), type='RULES_BEFORE', properties={}), Relationship(source=Node(id='Lady Jane Grey', type='Person', properties={}), target=Node(id='Elizabeth I', type='Person', properties={}), type='CLAIMED_CROWN_FROM', properties={}), Relationship(source=Node(id='Mary I', type='Person', properties={}), target=Node(id='Elizabeth I', type='Person', properties={}), type='SUCCEEDED_AFTER', properties={}), Relationship(source=Node(id='James VI of Scotland', type='Person', properties={}), target=Node(id='Elizabeth I', type='Person', properties={}), type='SUCCEEDED_AFTER', properties={}), Relationship(source=Node(id='William Cecil', type='Person', properties={}), target=Node(id='Elizabeth I', type='Person', properties={}), type='TRUSTED_ADVISOR_OF', properties={}), Relationship(source=Node(id='William Cecil', type='Person', properties={}), target=Node(id='Burghley', type='Title', properties={}), type='CREATED_BARON', properties={})], source=Document(metadata={'title': 'Elizabeth I', 'summary': 'Elizabeth I (7 September 1533 – 24 March 1603) was Queen of England and Ireland from 17 November 1558 until her death in 1603. She was the last and longest reigning monarch of the House of Tudor. Her eventful reign, and its effect on history and culture, gave name to the Elizabethan era.\\nElizabeth was the only surviving child of Henry VIII and his second wife, Anne Boleyn. When Elizabeth was two years old, her parents\\' marriage was annulled, her mother was executed, and Elizabeth was declared illegitimate. Henry restored her to the line of succession when she was 10, via the Third Succession Act 1543. After Henry\\'s death in 1547, Elizabeth\\'s younger half-brother Edward VI ruled until his own death in 1553, bequeathing the crown to a Protestant cousin, Lady Jane Grey, and ignoring the claims of his two half-sisters, the Catholic Mary and the younger Elizabeth, in spite of statutes to the contrary. Edward\\'s will was set aside within weeks of his death and Mary became queen, deposing and executing Jane. During Mary\\'s reign, Elizabeth was imprisoned for nearly a year on suspicion of supporting Protestant rebels.\\nUpon her half-sister\\'s death in 1558, Elizabeth succeeded to the throne and set out to rule by good counsel. She depended heavily on a group of trusted advisers led by William Cecil, whom she created Baron Burghley. One of her first actions as queen was the establishment of an English Protestant church, of which she became the supreme governor. This arrangement, later named the Elizabethan Religious Settlement, would evolve into the Church of England. It was expected that Elizabeth would marry and produce an heir; however, despite numerous courtships, she never did. Because of this she is sometimes referred to as the \"Virgin Queen\". She was eventually succeeded by her first cousin twice removed, James VI of Scotland.\\nIn government, Elizabeth was more moderate than her father and siblings had been. One of her mottoes was video et taceo (\"I see and keep silent\"). In religion, she was relatively tolerant and avoided systematic persecution. After the pope declared her illegitimate in 1570, which in theory released English Catholics from allegiance to her, several conspiracies threatened her life, all of which were defeated with the help of her ministers\\' secret service, run by Sir Francis Walsingham. Elizabeth was cautious in foreign affairs, manoeuvring between the major powers of France and Spain. She half-heartedly supported a number of ineffective, poorly resourced military campaigns in the Netherlands, France, and Ireland. By the mid-1580s, England could no longer avoid war with Spain.\\nAs she grew older, Elizabeth became celebrated for her virginity. A cult of personality grew around her which was celebrated in the portraits, pageants, and literature of the day. The Elizabethan era is famous for the flourishing of English drama, led by playwrights such as William Shakespeare and Christopher Marlowe, the prowess of English maritime adventurers, such as Francis Drake and Walter Raleigh, and for the defeat of the Spanish Armada. Some historians depict Elizabeth as a short-tempered, sometimes indecisive ruler, who enjoyed more than her fair share of luck. Towards the end of her reign, a series of economic and military problems weakened her popularity. Elizabeth is acknowledged as a charismatic performer (\"Gloriana\") and a dogged survivor (\"Good Queen Bess\") in an era when government was ramshackle and limited, and when monarchs in neighbouring countries faced internal problems that jeopardised their thrones. After the short, disastrous reigns of her half-siblings, her 44 years on the throne provided welcome stability for the kingdom and helped to forge a sense of national identity.', 'source': 'https://en.wikipedia.org/wiki/Elizabeth_I'}, page_content='Elizabeth I (7 September 1533 – 24 March 1603) was Queen of England and Ireland from 17 November 1558 until her death in 1603. She was the last and longest reigning monarch of the House of Tudor. Her eventful reign, and its effect on history and culture, gave name to the Elizabethan era.\\nElizabeth was the only surviving child of Henry VIII and his second wife, Anne Boleyn. When Elizabeth was two years old, her parents\\' marriage was annulled, her mother was executed, and Elizabeth was declared illegitimate. Henry restored her to the line of succession when she was 10, via the Third Succession Act 1543. After Henry\\'s death in 1547, Elizabeth\\'s younger half-brother Edward VI ruled until his own death in 1553, bequeathing the crown to a Protestant cousin, Lady Jane Grey, and ignoring the claims of his two half-sisters, the Catholic Mary and the younger Elizabeth, in spite of statutes to the contrary. Edward\\'s will was set aside within weeks of his death and Mary became queen, deposing and executing Jane. During Mary\\'s reign, Elizabeth was imprisoned for nearly a year on suspicion of supporting Protestant rebels.\\nUpon her half-sister\\'s death in 1558, Elizabeth succeeded to the throne and set out to rule by good counsel. She depended heavily on a group of trusted advisers led by William Cecil, whom she created Baron Burghley. One of her first actions as queen was the establishment of an English Protestant church, of which she became the supreme governor. This arrangement, later named the Elizabethan Religious Settlement, would evolve into the Church of England. It was expected that Elizabeth would marry and produce an heir; however, despite numerous courtships, she never did. Because of this she is sometimes referred to as the \"Virgin Queen\". She was eventually succeeded by her first cousin twice removed, James VI of Scotland.\\nIn government, Elizabeth was more moderate than her father and siblings had been. One of her mottoes was video et taceo (\"I see and keep silent\"). In religion, she was relatively tolerant and avoided systematic persecution. After the pope declared her illegitimate in 1570, which in theory released English Catholics from allegiance to her, several conspiracies threatened her life, all of which were defeated with the help of her ministers\\' secret service, run by Sir Francis Walsingham. Elizabeth was cautious in foreign affairs, manoeuvring between the major powers of France and Spain. She half-heartedly supported a')),\n",
       " GraphDocument(nodes=[Node(id='the defeat of the Spanish Armada.', type='Relation', properties={}), Node(id='the prowess of English maritime adventurers.', type='Relation', properties={}), Node(id='By the mid-1580s', type='Date', properties={}), Node(id=\"major powers involved in Elizabeth's foreign affairs.\", type='Relation', properties={}), Node(id='a charismatic performer and a dogged survivor.', type='Characterization', properties={}), Node(id='one of the regions where Elizabeth supported ineffective military campaigns.', type='Relation', properties={}), Node(id='Walter Raleigh', type='Person', properties={}), Node(id='her virginity.', type='Condition', properties={}), Node(id='war with Spain.', type='Relation', properties={}), Node(id='towards the end of her reign', type='Time Period', properties={}), Node(id='7 September 1533', type='Date', properties={}), Node(id='Netherlands', type='Country', properties={}), Node(id='Francis Drake', type='Person', properties={}), Node(id='France', type='Country', properties={}), Node(id='where Elizabeth was born.', type='Relation', properties={}), Node(id='Greenwich Palace', type='Place', properties={}), Node(id='Elizabeth', type='Person', properties={}), Node(id='Spain', type='Country', properties={}), Node(id='the flourishing of English drama.', type='Relation', properties={}), Node(id='Elizabeth of York', type='Person', properties={}), Node(id='a ruler who provided welcome stability for the kingdom and helped to forge a sense of national identity.', type='Characterization', properties={}), Node(id='Ireland', type='Country', properties={}), Node(id='second child of Henry VIII born in wedlock to survive infancy.', type='Condition', properties={}), Node(id='English maritime adventurers celebrated during the Elizabethan era.', type='Relation', properties={}), Node(id='luck.', type='Condition', properties={}), Node(id='a short-tempered, sometimes indecisive ruler.', type='Characterization', properties={}), Node(id='Lady Elizabeth Howard', type='Person', properties={}), Node(id='a series of economic and military problems that weakened her popularity.', type='Relation', properties={}), Node(id='Elizabethan era', type='Era', properties={})], relationships=[Relationship(source=Node(id='Elizabeth', type='Person', properties={}), target=Node(id='Greenwich Palace', type='Place', properties={}), type='BORN', properties={}), Relationship(source=Node(id='7 September 1533', type='Date', properties={}), target=Node(id='Elizabeth', type='Person', properties={}), type='ASSOCIATED_WITH', properties={}), Relationship(source=Node(id='Elizabeth', type='Person', properties={}), target=Node(id='Elizabeth of York', type='Person', properties={}), type='NAMED_AFTER', properties={}), Relationship(source=Node(id='Elizabeth', type='Person', properties={}), target=Node(id='Lady Elizabeth Howard', type='Person', properties={}), type='NAMED_AFTER', properties={}), Relationship(source=Node(id='Elizabeth', type='Person', properties={}), target=Node(id='second child of Henry VIII born in wedlock to survive infancy.', type='Condition', properties={}), type='WAS_THE', properties={}), Relationship(source=Node(id='France', type='Country', properties={}), target=Node(id=\"major powers involved in Elizabeth's foreign affairs.\", type='Relation', properties={}), type='ONE_OF_THE', properties={}), Relationship(source=Node(id='Spain', type='Country', properties={}), target=Node(id=\"major powers involved in Elizabeth's foreign affairs.\", type='Relation', properties={}), type='ONE_OF_THE', properties={}), Relationship(source=Node(id='Netherlands', type='Country', properties={}), target=Node(id='one of the regions where Elizabeth supported ineffective military campaigns.', type='Relation', properties={}), type='LOCATION', properties={}), Relationship(source=Node(id='France', type='Country', properties={}), target=Node(id='one of the regions where Elizabeth supported ineffective military campaigns.', type='Relation', properties={}), type='LOCATION', properties={}), Relationship(source=Node(id='Ireland', type='Country', properties={}), target=Node(id='one of the regions where Elizabeth supported ineffective military campaigns.', type='Relation', properties={}), type='LOCATION', properties={}), Relationship(source=Node(id='By the mid-1580s', type='Date', properties={}), target=Node(id='war with Spain.', type='Relation', properties={}), type='MARKS_THE_BEGINNING_OF', properties={}), Relationship(source=Node(id='Elizabeth', type='Person', properties={}), target=Node(id='her virginity.', type='Condition', properties={}), type='CELEBRATED_FOR', properties={}), Relationship(source=Node(id='Elizabethan era', type='Era', properties={}), target=Node(id='the flourishing of English drama.', type='Relation', properties={}), type='FAMOUS_FOR', properties={}), Relationship(source=Node(id='Elizabethan era', type='Era', properties={}), target=Node(id='the prowess of English maritime adventurers.', type='Relation', properties={}), type='FAMOUS_FOR', properties={}), Relationship(source=Node(id='Elizabethan era', type='Era', properties={}), target=Node(id='the defeat of the Spanish Armada.', type='Relation', properties={}), type='FAMOUS_FOR', properties={}), Relationship(source=Node(id='Francis Drake', type='Person', properties={}), target=Node(id='English maritime adventurers celebrated during the Elizabethan era.', type='Relation', properties={}), type='ONE_OF', properties={}), Relationship(source=Node(id='Walter Raleigh', type='Person', properties={}), target=Node(id='English maritime adventurers celebrated during the Elizabethan era.', type='Relation', properties={}), type='ONE_OF', properties={}), Relationship(source=Node(id='Elizabeth', type='Person', properties={}), target=Node(id='a short-tempered, sometimes indecisive ruler.', type='Characterization', properties={}), type='DEPICTED_AS', properties={}), Relationship(source=Node(id='Elizabeth', type='Person', properties={}), target=Node(id='luck.', type='Condition', properties={}), type='ENJOYED_MORE_THAN_HER_FAIR_SHARE_OF', properties={}), Relationship(source=Node(id='towards the end of her reign', type='Time Period', properties={}), target=Node(id='a series of economic and military problems that weakened her popularity.', type='Relation', properties={}), type='MARKS_THE_BEGINNING_OF', properties={}), Relationship(source=Node(id='Elizabeth', type='Person', properties={}), target=Node(id='a charismatic performer and a dogged survivor.', type='Characterization', properties={}), type='ACKNOWLEDGED_AS', properties={}), Relationship(source=Node(id='Elizabeth', type='Person', properties={}), target=Node(id='a ruler who provided welcome stability for the kingdom and helped to forge a sense of national identity.', type='Characterization', properties={}), type='ACKNOWLEDGED_AS', properties={}), Relationship(source=Node(id='Greenwich Palace', type='Place', properties={}), target=Node(id='where Elizabeth was born.', type='Relation', properties={}), type='LOCATION', properties={})], source=Document(metadata={'title': 'Elizabeth I', 'summary': 'Elizabeth I (7 September 1533 – 24 March 1603) was Queen of England and Ireland from 17 November 1558 until her death in 1603. She was the last and longest reigning monarch of the House of Tudor. Her eventful reign, and its effect on history and culture, gave name to the Elizabethan era.\\nElizabeth was the only surviving child of Henry VIII and his second wife, Anne Boleyn. When Elizabeth was two years old, her parents\\' marriage was annulled, her mother was executed, and Elizabeth was declared illegitimate. Henry restored her to the line of succession when she was 10, via the Third Succession Act 1543. After Henry\\'s death in 1547, Elizabeth\\'s younger half-brother Edward VI ruled until his own death in 1553, bequeathing the crown to a Protestant cousin, Lady Jane Grey, and ignoring the claims of his two half-sisters, the Catholic Mary and the younger Elizabeth, in spite of statutes to the contrary. Edward\\'s will was set aside within weeks of his death and Mary became queen, deposing and executing Jane. During Mary\\'s reign, Elizabeth was imprisoned for nearly a year on suspicion of supporting Protestant rebels.\\nUpon her half-sister\\'s death in 1558, Elizabeth succeeded to the throne and set out to rule by good counsel. She depended heavily on a group of trusted advisers led by William Cecil, whom she created Baron Burghley. One of her first actions as queen was the establishment of an English Protestant church, of which she became the supreme governor. This arrangement, later named the Elizabethan Religious Settlement, would evolve into the Church of England. It was expected that Elizabeth would marry and produce an heir; however, despite numerous courtships, she never did. Because of this she is sometimes referred to as the \"Virgin Queen\". She was eventually succeeded by her first cousin twice removed, James VI of Scotland.\\nIn government, Elizabeth was more moderate than her father and siblings had been. One of her mottoes was video et taceo (\"I see and keep silent\"). In religion, she was relatively tolerant and avoided systematic persecution. After the pope declared her illegitimate in 1570, which in theory released English Catholics from allegiance to her, several conspiracies threatened her life, all of which were defeated with the help of her ministers\\' secret service, run by Sir Francis Walsingham. Elizabeth was cautious in foreign affairs, manoeuvring between the major powers of France and Spain. She half-heartedly supported a number of ineffective, poorly resourced military campaigns in the Netherlands, France, and Ireland. By the mid-1580s, England could no longer avoid war with Spain.\\nAs she grew older, Elizabeth became celebrated for her virginity. A cult of personality grew around her which was celebrated in the portraits, pageants, and literature of the day. The Elizabethan era is famous for the flourishing of English drama, led by playwrights such as William Shakespeare and Christopher Marlowe, the prowess of English maritime adventurers, such as Francis Drake and Walter Raleigh, and for the defeat of the Spanish Armada. Some historians depict Elizabeth as a short-tempered, sometimes indecisive ruler, who enjoyed more than her fair share of luck. Towards the end of her reign, a series of economic and military problems weakened her popularity. Elizabeth is acknowledged as a charismatic performer (\"Gloriana\") and a dogged survivor (\"Good Queen Bess\") in an era when government was ramshackle and limited, and when monarchs in neighbouring countries faced internal problems that jeopardised their thrones. After the short, disastrous reigns of her half-siblings, her 44 years on the throne provided welcome stability for the kingdom and helped to forge a sense of national identity.', 'source': 'https://en.wikipedia.org/wiki/Elizabeth_I'}, page_content='Elizabeth was cautious in foreign affairs, manoeuvring between the major powers of France and Spain. She half-heartedly supported a number of ineffective, poorly resourced military campaigns in the Netherlands, France, and Ireland. By the mid-1580s, England could no longer avoid war with Spain.\\nAs she grew older, Elizabeth became celebrated for her virginity. A cult of personality grew around her which was celebrated in the portraits, pageants, and literature of the day. The Elizabethan era is famous for the flourishing of English drama, led by playwrights such as William Shakespeare and Christopher Marlowe, the prowess of English maritime adventurers, such as Francis Drake and Walter Raleigh, and for the defeat of the Spanish Armada. Some historians depict Elizabeth as a short-tempered, sometimes indecisive ruler, who enjoyed more than her fair share of luck. Towards the end of her reign, a series of economic and military problems weakened her popularity. Elizabeth is acknowledged as a charismatic performer (\"Gloriana\") and a dogged survivor (\"Good Queen Bess\") in an era when government was ramshackle and limited, and when monarchs in neighbouring countries faced internal problems that jeopardised their thrones. After the short, disastrous reigns of her half-siblings, her 44 years on the throne provided welcome stability for the kingdom and helped to forge a sense of national identity.\\n\\n\\n== Early life ==\\n\\nElizabeth was born at Greenwich Palace on 7 September 1533 and was named after her grandmothers, Elizabeth of York and Lady Elizabeth Howard. She was the second child of Henry VIII of England born in wedlock to survive infancy.')),\n",
       " GraphDocument(nodes=[Node(id='Peter II', type='Person', properties={}), Node(id='Elizabeth', type='Person', properties={}), Node(id='Daughter of Peter the Great', type='Relationship', properties={}), Node(id='Ivan VI', type='Person', properties={}), Node(id=\"Russia's roads\", type='Infrastructure', properties={}), Node(id='Ivan Shuvalov', type='Person', properties={}), Node(id='Russian Empire during the War of Austrian Succession', type='Conflict', properties={}), Node(id='University of Moscow', type='Institution', properties={}), Node(id='Russian Empire', type='Country', properties={}), Node(id='Anna', type='Person', properties={}), Node(id='Peter III', type='Person', properties={}), Node(id='Imperial Academy of Arts', type='Institution', properties={}), Node(id='Peterhof Palace', type='Building', properties={}), Node(id=\"Russian Empire during the Seven Years' War\", type='Conflict', properties={}), Node(id='Bartolomeo Rastrelli', type='Person', properties={}), Node(id='Catherine I of Russia', type='Person', properties={}), Node(id='Peter the Great', type='Person', properties={})], relationships=[Relationship(source=Node(id='Elizabeth', type='Person', properties={}), target=Node(id='Russian Empire', type='Country', properties={}), type='RULED', properties={}), Relationship(source=Node(id='Elizabeth', type='Person', properties={}), target=Node(id='Daughter of Peter the Great', type='Relationship', properties={}), type='BORN_AS', properties={}), Relationship(source=Node(id='Catherine I of Russia', type='Person', properties={}), target=Node(id='Russian Empire', type='Country', properties={}), type='RULED', properties={}), Relationship(source=Node(id='Peter II', type='Person', properties={}), target=Node(id='Russian Empire', type='Country', properties={}), type='RULED', properties={}), Relationship(source=Node(id='Anna', type='Person', properties={}), target=Node(id='Russian Empire', type='Country', properties={}), type='RULED', properties={}), Relationship(source=Node(id='Ivan VI', type='Person', properties={}), target=Node(id='Russian Empire', type='Country', properties={}), type='RULED', properties={}), Relationship(source=Node(id='Peter III', type='Person', properties={}), target=Node(id='Elizabeth', type='Person', properties={}), type='DECLARED_HEIR', properties={}), Relationship(source=Node(id='Elizabeth', type='Person', properties={}), target=Node(id='Peter the Great', type='Person', properties={}), type='CONTIUED_POLICIES_OF', properties={}), Relationship(source=Node(id='Elizabeth', type='Person', properties={}), target=Node(id='University of Moscow', type='Institution', properties={}), type='FOUNDED', properties={}), Relationship(source=Node(id='Elizabeth', type='Person', properties={}), target=Node(id=\"Russia's roads\", type='Infrastructure', properties={}), type='MODERNIZED', properties={}), Relationship(source=Node(id='Ivan Shuvalov', type='Person', properties={}), target=Node(id='Imperial Academy of Arts', type='Institution', properties={}), type='FOUNDED', properties={}), Relationship(source=Node(id='Bartolomeo Rastrelli', type='Person', properties={}), target=Node(id='Elizabeth', type='Person', properties={}), type='FINANCED_PROJECTS_OF', properties={}), Relationship(source=Node(id='Bartolomeo Rastrelli', type='Person', properties={}), target=Node(id='Peterhof Palace', type='Building', properties={}), type='DESIGNED', properties={}), Relationship(source=Node(id='Elizabeth', type='Person', properties={}), target=Node(id='Russian Empire during the War of Austrian Succession', type='Conflict', properties={}), type='LED', properties={}), Relationship(source=Node(id='Elizabeth', type='Person', properties={}), target=Node(id=\"Russian Empire during the Seven Years' War\", type='Conflict', properties={}), type='LED', properties={})], source=Document(metadata={'title': 'Elizabeth of Russia', 'summary': \"Elizabeth or Elizaveta Petrovna (Russian: Елизаве́та Петро́вна; 29 December [O.S. 18 December] 1709 – 5 January [O.S. 25 December] 1762) was Empress of Russia from 1741 until her death in 1762. She remains one of the most popular Russian monarchs because of her decision not to execute a single person during her reign, her numerous construction projects, and her strong opposition to Prussian policies.\\nThe second-eldest daughter of Tsar Peter the Great (r.\\u20091682–1725), Elizabeth lived through the confused successions of her father's descendants following her half-brother Alexei's death in 1718. The throne first passed to her mother Catherine I of Russia (r.\\u20091725–1727), then to her nephew Peter II, who died in 1730 and was succeeded by Elizabeth's first cousin Anna (r.\\u20091730–1740). After the brief rule of Anna's infant great-nephew, Ivan VI, Elizabeth seized the throne with the military's support and declared her own nephew, the future Peter III, her heir.\\nDuring her reign Elizabeth continued the policies of her father and brought about a remarkable Age of Enlightenment in Russia. Her domestic policies allowed the nobles to gain dominance in local government while shortening their terms of service to the state. She encouraged Mikhail Lomonosov's foundation of the University of Moscow, the highest-ranking Russian educational institution. Her court became one of the most splendid in all Europe, especially regarding architecture: she modernised Russia's roads, encouraged Ivan Shuvalov's foundation of the Imperial Academy of Arts, and financed grandiose Baroque projects of her favourite architect, Bartolomeo Rastrelli, particularly in Peterhof Palace. The Winter Palace and the Smolny Cathedral in Saint Petersburg are among the chief monuments of her reign.\\nElizabeth led the Russian Empire during the two major European conflicts of her time: the War of Austrian Succession (1740–1748) and the Seven Years' War (1756–1763). She and diplomat Aleksey Bestuzhev-Ryumin solved the first event by forming an alliance with Austria and France, but indirectly caused the second. Russian troops enjoyed several victories against Prussia and briefly occupied Berlin, but when Frederick the Great was finally considering surrender in January 1762, the Russian Empress died. She was the last agnatic member of the House of Romanov to reign over the Russian Empire.\", 'source': 'https://en.wikipedia.org/wiki/Elizabeth_of_Russia'}, page_content=\"Elizabeth or Elizaveta Petrovna (Russian: Елизаве́та Петро́вна; 29 December [O.S. 18 December] 1709 – 5 January [O.S. 25 December] 1762) was Empress of Russia from 1741 until her death in 1762. She remains one of the most popular Russian monarchs because of her decision not to execute a single person during her reign, her numerous construction projects, and her strong opposition to Prussian policies.\\nThe second-eldest daughter of Tsar Peter the Great (r.\\u20091682–1725), Elizabeth lived through the confused successions of her father's descendants following her half-brother Alexei's death in 1718. The throne first passed to her mother Catherine I of Russia (r.\\u20091725–1727), then to her nephew Peter II, who died in 1730 and was succeeded by Elizabeth's first cousin Anna (r.\\u20091730–1740). After the brief rule of Anna's infant great-nephew, Ivan VI, Elizabeth seized the throne with the military's support and declared her own nephew, the future Peter III, her heir.\\nDuring her reign Elizabeth continued the policies of her father and brought about a remarkable Age of Enlightenment in Russia. Her domestic policies allowed the nobles to gain dominance in local government while shortening their terms of service to the state. She encouraged Mikhail Lomonosov's foundation of the University of Moscow, the highest-ranking Russian educational institution. Her court became one of the most splendid in all Europe, especially regarding architecture: she modernised Russia's roads, encouraged Ivan Shuvalov's foundation of the Imperial Academy of Arts, and financed grandiose Baroque projects of her favourite architect, Bartolomeo Rastrelli, particularly in Peterhof Palace. The Winter Palace and the Smolny Cathedral in Saint Petersburg are among the chief monuments of her reign.\\nElizabeth led the Russian Empire during the two major European conflicts of her time: the War of Austrian Succession (1740–1748) and the Seven Years' War (1756–1763). She and diplomat Aleksey Bestuzhev-Ryumin solved the first event by forming an alliance with Austria and France, but indirectly caused the second. Russian troops enjoyed several victories against Prussia and briefly occupied Berlin, but when Frederick the Great was finally considering surrender in January\")),\n",
       " GraphDocument(nodes=[Node(id='Samuel Skowroński', type='Person', properties={}), Node(id='Elizabeth', type='Person', properties={}), Node(id='Catherine', type='Person', properties={}), Node(id='Anna and Elizabeth', type='Person', properties={}), Node(id='18 December 1709 (O.S.)', type='Date', properties={}), Node(id='Russian Empire', type='Country', properties={}), Node(id='crown prince Alexei Petrovich', type='Person', properties={}), Node(id='Peter the Great', type='Person', properties={})], relationships=[Relationship(source=Node(id='Russian Empire', type='Country', properties={}), target=Node(id='Elizabeth', type='Person', properties={}), type='REIGNED_OVER', properties={}), Relationship(source=Node(id='Peter the Great', type='Person', properties={}), target=Node(id='Elizabeth', type='Person', properties={}), type='FATHER_OF', properties={}), Relationship(source=Node(id='Catherine', type='Person', properties={}), target=Node(id='Elizabeth', type='Person', properties={}), type='MOTHER_OF', properties={}), Relationship(source=Node(id='Samuel Skowroński', type='Person', properties={}), target=Node(id='Catherine', type='Person', properties={}), type='PARENT_OF', properties={}), Relationship(source=Node(id='Elizabeth', type='Person', properties={}), target=Node(id='18 December 1709 (O.S.)', type='Date', properties={}), type='BORN_ON', properties={}), Relationship(source=Node(id='Elizabeth', type='Person', properties={}), target=Node(id='Anna and Elizabeth', type='Person', properties={}), type='HAS_SIBLING', properties={}), Relationship(source=Node(id='Elizabeth', type='Person', properties={}), target=Node(id='crown prince Alexei Petrovich', type='Person', properties={}), type='HAS_SIBLING', properties={})], source=Document(metadata={'title': 'Elizabeth of Russia', 'summary': \"Elizabeth or Elizaveta Petrovna (Russian: Елизаве́та Петро́вна; 29 December [O.S. 18 December] 1709 – 5 January [O.S. 25 December] 1762) was Empress of Russia from 1741 until her death in 1762. She remains one of the most popular Russian monarchs because of her decision not to execute a single person during her reign, her numerous construction projects, and her strong opposition to Prussian policies.\\nThe second-eldest daughter of Tsar Peter the Great (r.\\u20091682–1725), Elizabeth lived through the confused successions of her father's descendants following her half-brother Alexei's death in 1718. The throne first passed to her mother Catherine I of Russia (r.\\u20091725–1727), then to her nephew Peter II, who died in 1730 and was succeeded by Elizabeth's first cousin Anna (r.\\u20091730–1740). After the brief rule of Anna's infant great-nephew, Ivan VI, Elizabeth seized the throne with the military's support and declared her own nephew, the future Peter III, her heir.\\nDuring her reign Elizabeth continued the policies of her father and brought about a remarkable Age of Enlightenment in Russia. Her domestic policies allowed the nobles to gain dominance in local government while shortening their terms of service to the state. She encouraged Mikhail Lomonosov's foundation of the University of Moscow, the highest-ranking Russian educational institution. Her court became one of the most splendid in all Europe, especially regarding architecture: she modernised Russia's roads, encouraged Ivan Shuvalov's foundation of the Imperial Academy of Arts, and financed grandiose Baroque projects of her favourite architect, Bartolomeo Rastrelli, particularly in Peterhof Palace. The Winter Palace and the Smolny Cathedral in Saint Petersburg are among the chief monuments of her reign.\\nElizabeth led the Russian Empire during the two major European conflicts of her time: the War of Austrian Succession (1740–1748) and the Seven Years' War (1756–1763). She and diplomat Aleksey Bestuzhev-Ryumin solved the first event by forming an alliance with Austria and France, but indirectly caused the second. Russian troops enjoyed several victories against Prussia and briefly occupied Berlin, but when Frederick the Great was finally considering surrender in January 1762, the Russian Empress died. She was the last agnatic member of the House of Romanov to reign over the Russian Empire.\", 'source': 'https://en.wikipedia.org/wiki/Elizabeth_of_Russia'}, page_content='Russian troops enjoyed several victories against Prussia and briefly occupied Berlin, but when Frederick the Great was finally considering surrender in January 1762, the Russian Empress died. She was the last agnatic member of the House of Romanov to reign over the Russian Empire.\\n\\n\\n== Early life ==\\n\\n\\n=== Childhood and teenage years ===\\n\\nElizabeth was born at Kolomenskoye, near Moscow, Russia, on 18 December 1709 (O.S.). Her parents were Peter the Great, Tsar of Russia and Catherine. Catherine was the daughter of Samuel Skowroński, a subject of Grand Duchy of Lithuania. Although no documentary record exists, her parents were said to have married secretly at the Cathedral of the Holy Trinity in Saint Petersburg at some point between 23 October and 1 December 1707. Their official marriage was at Saint Isaac\\'s Cathedral in Saint Petersburg on 9 February 1712. On this day, the two children previously born to the couple (Anna and Elizabeth) were legitimised by their father and given the title of Tsarevna (\"princess\") on 6 March 1711. Of the twelve children born to Peter and Catherine (five sons and seven daughters), only the sisters survived to adulthood. They had one older surviving sibling, crown prince Alexei Petrovich, who was Peter\\'s son by his first wife, noblewoman Eudoxia Lopukhina.\\nAs a child, Elizabeth was the favourite of her father, whom she resembled both physically and temperamentally. Even though he adored his daughter, Peter did not devote time or attention to her education; having both a son and grandson from his first marriage to a noblewoman, he did not anticipate that a daughter born to his former maid might one day inherit the Russian throne, which had until that point never been occupied by a woman; as such, it was left to Catherine to raise the girls, a task met with considerable difficulty due to her own lack of education. Despite this, Elizabeth was still')),\n",
       " GraphDocument(nodes=[Node(id='James VI of Scotland', type='Person', properties={}), Node(id='succession issues of the Tudor line', type='Issue', properties={}), Node(id='will', type='Document', properties={}), Node(id='succession', type='Event', properties={}), Node(id='England', type='Country', properties={}), Node(id='Elizabeth I', type='Person', properties={}), Node(id='Henry VIII', type='Person', properties={}), Node(id='Edward III', type='Person', properties={}), Node(id='De natis ultra mare', type='Statute', properties={}), Node(id='Margaret Douglas, Countess of Lennox', type='Person', properties={})], relationships=[Relationship(source=Node(id='Elizabeth I', type='Person', properties={}), target=Node(id='England', type='Country', properties={}), type='RULES', properties={}), Relationship(source=Node(id='James VI of Scotland', type='Person', properties={}), target=Node(id='England', type='Country', properties={}), type='SUCCEEDED', properties={}), Relationship(source=Node(id='Henry VIII', type='Person', properties={}), target=Node(id='succession', type='Event', properties={}), type='DEFINED_LINE_OF_SUCCESSION', properties={}), Relationship(source=Node(id='Edward III', type='Person', properties={}), target=Node(id='De natis ultra mare', type='Statute', properties={}), type='ISSUED_STATUTE', properties={}), Relationship(source=Node(id='Henry VIII', type='Person', properties={}), target=Node(id='will', type='Document', properties={}), type='ISSUED_WILL', properties={}), Relationship(source=Node(id='Margaret Douglas, Countess of Lennox', type='Person', properties={}), target=Node(id='succession issues of the Tudor line', type='Issue', properties={}), type='HAVE_NO_CLARIFICATION_FROM_ELIZABETH_I', properties={})], source=Document(metadata={'title': 'Succession to Elizabeth I', 'summary': 'The succession to the childless queen of England Elizabeth I was an open question from her accession in 1558 to her death in 1603, when the crown passed to James VI of Scotland, an event known as the Union of the Crowns. While the accession of James went smoothly, the succession had been the subject of much debate for decades. In some scholarly views, it was a major political factor of the entire reign, even if not so voiced. Separate aspects have acquired their own nomenclature: the \"Norfolk conspiracy\", Patrick Collinson\\'s \"Elizabethan exclusion crisis\", the \"Secret Correspondence\", and the \"Valentine Thomas affair\".\\nThe topics of debate remained obscured by uncertainty.\\nElizabeth I avoided establishing the order of succession in any form, presumably because she feared for her own life once a successor was named.  She was also concerned with England forming a productive relationship with Scotland, whose Catholic and Presbyterian strongholds were resistant to female leadership. Catholic women who would be submissive to the Pope and not to English constitutional law were rejected.\\nThe will of Elizabeth\\'s father, Henry VIII, had named one male and seven females living at his death in 1547 as the line of succession: (1) his son Edward VI, (2) Mary I, (3) Elizabeth I, (4) Jane Grey, (5) Katherine Grey, (6) Mary Grey, and (7) Margaret Clifford. By 1596, Elizabeth had outlived all others.\\nA number of authorities considered that the legal position hinged on documents such as the statute De natis ultra mare of Edward III, and the will of Henry VIII. There were different opinions about the application of these documents. Political, religious and military matters came to predominate later in Elizabeth\\'s reign, in the context of the Anglo-Spanish War.', 'source': 'https://en.wikipedia.org/wiki/Succession_to_Elizabeth_I'}, page_content='The succession to the childless queen of England Elizabeth I was an open question from her accession in 1558 to her death in 1603, when the crown passed to James VI of Scotland, an event known as the Union of the Crowns. While the accession of James went smoothly, the succession had been the subject of much debate for decades. In some scholarly views, it was a major political factor of the entire reign, even if not so voiced. Separate aspects have acquired their own nomenclature: the \"Norfolk conspiracy\", Patrick Collinson\\'s \"Elizabethan exclusion crisis\", the \"Secret Correspondence\", and the \"Valentine Thomas affair\".\\nThe topics of debate remained obscured by uncertainty.\\nElizabeth I avoided establishing the order of succession in any form, presumably because she feared for her own life once a successor was named.  She was also concerned with England forming a productive relationship with Scotland, whose Catholic and Presbyterian strongholds were resistant to female leadership. Catholic women who would be submissive to the Pope and not to English constitutional law were rejected.\\nThe will of Elizabeth\\'s father, Henry VIII, had named one male and seven females living at his death in 1547 as the line of succession: (1) his son Edward VI, (2) Mary I, (3) Elizabeth I, (4) Jane Grey, (5) Katherine Grey, (6) Mary Grey, and (7) Margaret Clifford. By 1596, Elizabeth had outlived all others.\\nA number of authorities considered that the legal position hinged on documents such as the statute De natis ultra mare of Edward III, and the will of Henry VIII. There were different opinions about the application of these documents. Political, religious and military matters came to predominate later in Elizabeth\\'s reign, in the context of the Anglo-Spanish War.\\n\\n\\n== Cognatic descent from Henry VII ==\\nDescent from the two daughters of Henry VII who reached adulthood, Margaret and Mary, was the first and main issue in the succession. \\n\\n\\n=== Lennox claim ===\\nMary I of England had died without managing to have her preferred successor and first cousin, Margaret Douglas, Countess of Lennox, nominated by parliament. Margaret Douglas was a daughter of Margaret Tudor, and lived to 1578, but became a marginal figure in discussions of the succession to Elizabeth I, who at no point clarified the dynastic issues of the Tudor line. When in 1565 Margaret Douglas\\'s elder son Henry Stuart,')),\n",
       " GraphDocument(nodes=[Node(id='Henry Stuart, Lord Darnley', type='Person', properties={}), Node(id='English throne', type='Throne', properties={}), Node(id='Arbella Stuart', type='Person', properties={}), Node(id='dynastic issues of the Tudor line', type='Issue', properties={}), Node(id='Margaret Douglas', type='Person', properties={}), Node(id='Frances Grey, Duchess of Suffolk', type='Person', properties={}), Node(id='James VI', type='Person', properties={}), Node(id='two grandchildren of Margaret Tudor', type='Person', properties={}), Node(id=\"Margaret Douglas, Countess of Lennox's younger son Charles Stuart, 1st Earl of Lennox\", type='Person', properties={}), Node(id='Mary, Queen of Scots', type='Person', properties={}), Node(id='Elizabeth', type='Person', properties={}), Node(id='parliament in settling the succession in her favour', type='Event', properties={}), Node(id='Lennox claim', type='Claim', properties={}), Node(id='Henry Grey, 1st Duke of Suffolk', type='Person', properties={}), Node(id='when a parliament was summoned', type='Event', properties={}), Node(id='Lady Jane Grey', type='Person', properties={}), Node(id='Stuart claim', type='Claim', properties={}), Node(id='point', type='Person', properties={}), Node(id='Eleanor Clifford, Countess of Cumberland', type='Person', properties={}), Node(id='1587', type='Year', properties={}), Node(id='Mary Tudor', type='Person', properties={})], relationships=[Relationship(source=Node(id='point', type='Person', properties={}), target=Node(id='dynastic issues of the Tudor line', type='Issue', properties={}), type='CLARIFIED', properties={}), Relationship(source=Node(id='Margaret Douglas', type='Person', properties={}), target=Node(id='Henry Stuart, Lord Darnley', type='Person', properties={}), type='HAVE_SON', properties={}), Relationship(source=Node(id='Henry Stuart, Lord Darnley', type='Person', properties={}), target=Node(id='Mary, Queen of Scots', type='Person', properties={}), type='MARRIED', properties={}), Relationship(source=Node(id='Lennox claim', type='Claim', properties={}), target=Node(id='Stuart claim', type='Claim', properties={}), type='CONSOLIDATED_INTO', properties={}), Relationship(source=Node(id='James VI', type='Person', properties={}), target=Node(id='two grandchildren of Margaret Tudor', type='Person', properties={}), type='SON_OF', properties={}), Relationship(source=Node(id='Arbella Stuart', type='Person', properties={}), target=Node(id=\"Margaret Douglas, Countess of Lennox's younger son Charles Stuart, 1st Earl of Lennox\", type='Person', properties={}), type='DAUGHTER_OF', properties={}), Relationship(source=Node(id='Mary, Queen of Scots', type='Person', properties={}), target=Node(id='English throne', type='Throne', properties={}), type='CONSIDERED_AS_POSSIBLE_SUCCESSOR', properties={}), Relationship(source=Node(id='Elizabeth', type='Person', properties={}), target=Node(id='when a parliament was summoned', type='Event', properties={}), type='SUMMONED_PARLIAMENT', properties={}), Relationship(source=Node(id='Mary, Queen of Scots', type='Person', properties={}), target=Node(id='parliament in settling the succession in her favour', type='Event', properties={}), type='ANTICIPATING_A_ROLE', properties={}), Relationship(source=Node(id='Mary, Queen of Scots', type='Person', properties={}), target=Node(id='1587', type='Year', properties={}), type='EXECUTED', properties={}), Relationship(source=Node(id='Frances Grey, Duchess of Suffolk', type='Person', properties={}), target=Node(id='Mary Tudor', type='Person', properties={}), type='DAUGHTER_OF', properties={}), Relationship(source=Node(id='Eleanor Clifford, Countess of Cumberland', type='Person', properties={}), target=Node(id='Mary Tudor', type='Person', properties={}), type='DAUGHTER_OF', properties={}), Relationship(source=Node(id='Frances Grey, Duchess of Suffolk', type='Person', properties={}), target=Node(id='Henry Grey, 1st Duke of Suffolk', type='Person', properties={}), type='MARRIED', properties={}), Relationship(source=Node(id='Henry Grey, 1st Duke of Suffolk', type='Person', properties={}), target=Node(id='Lady Jane Grey', type='Person', properties={}), type='HAVE_DAUGHTERS', properties={})], source=Document(metadata={'title': 'Succession to Elizabeth I', 'summary': 'The succession to the childless queen of England Elizabeth I was an open question from her accession in 1558 to her death in 1603, when the crown passed to James VI of Scotland, an event known as the Union of the Crowns. While the accession of James went smoothly, the succession had been the subject of much debate for decades. In some scholarly views, it was a major political factor of the entire reign, even if not so voiced. Separate aspects have acquired their own nomenclature: the \"Norfolk conspiracy\", Patrick Collinson\\'s \"Elizabethan exclusion crisis\", the \"Secret Correspondence\", and the \"Valentine Thomas affair\".\\nThe topics of debate remained obscured by uncertainty.\\nElizabeth I avoided establishing the order of succession in any form, presumably because she feared for her own life once a successor was named.  She was also concerned with England forming a productive relationship with Scotland, whose Catholic and Presbyterian strongholds were resistant to female leadership. Catholic women who would be submissive to the Pope and not to English constitutional law were rejected.\\nThe will of Elizabeth\\'s father, Henry VIII, had named one male and seven females living at his death in 1547 as the line of succession: (1) his son Edward VI, (2) Mary I, (3) Elizabeth I, (4) Jane Grey, (5) Katherine Grey, (6) Mary Grey, and (7) Margaret Clifford. By 1596, Elizabeth had outlived all others.\\nA number of authorities considered that the legal position hinged on documents such as the statute De natis ultra mare of Edward III, and the will of Henry VIII. There were different opinions about the application of these documents. Political, religious and military matters came to predominate later in Elizabeth\\'s reign, in the context of the Anglo-Spanish War.', 'source': 'https://en.wikipedia.org/wiki/Succession_to_Elizabeth_I'}, page_content='point clarified the dynastic issues of the Tudor line. When in 1565 Margaret Douglas\\'s elder son Henry Stuart, Lord Darnley, married Mary, Queen of Scots, the \"Lennox claim\" was generally regarded as consolidated into the \"Stuart claim\".\\n\\n\\n=== Stuart claimants ===\\nJames VI was the son of two grandchildren of Margaret Tudor. Arbella Stuart, the most serious other contender by the late 16th century, was the daughter of Margaret Douglas, Countess of Lennox\\'s younger son Charles Stuart, 1st Earl of Lennox.\\nJames VI\\'s mother, Mary, Queen of Scots, was considered a plausible successor to the English throne. At the beginning of Elizabeth\\'s reign she sent ambassadors to England when a parliament was summoned, anticipating a role for parliament in settling the succession in her favour. Mary was a Roman Catholic, and her proximity to the succession was a factor in plotting, including the Throckmorton plot and the Babington plot, making her position a political problem for the English government, eventually resolved by judicial means. She was executed in 1587. In that year, Mary\\'s son James reached the age of twenty-one, while Arbella was only twelve.\\n\\n\\n=== Suffolk claimants ===\\nWhile the Stuart line of James and Arbella would have had political support, by 1600 the descendants of Mary Tudor were theoretically relevant, and on legal grounds could not be discounted. Frances Grey, Duchess of Suffolk, and Eleanor Clifford, Countess of Cumberland, both had children who were in the line of succession. Frances and Eleanor were Mary Tudor\\'s daughters by her second husband, Charles Brandon, 1st Duke of Suffolk. Frances married Henry Grey, 1st Duke of Suffolk, and they had three daughters, Lady Jane Grey ('))]"
      ]
     },
     "execution_count": 121,
     "metadata": {},
     "output_type": "execute_result"
    }
   ],
   "source": [
    "graph_documents"
   ]
  },
  {
   "cell_type": "code",
   "execution_count": 122,
   "metadata": {},
   "outputs": [],
   "source": [
    "\n",
    "graph.add_graph_documents(\n",
    "    graph_documents,\n",
    "    baseEntityLabel=True,\n",
    "    include_source=True\n",
    ")\n",
    "     "
   ]
  },
  {
   "cell_type": "code",
   "execution_count": 123,
   "metadata": {},
   "outputs": [],
   "source": [
    "default_cypher = \"MATCH (s)-[r:!MENTIONS]->(t) RETURN s,r,t LIMIT 50\""
   ]
  },
  {
   "cell_type": "code",
   "execution_count": 124,
   "metadata": {},
   "outputs": [],
   "source": [
    "from yfiles_jupyter_graphs import GraphWidget\n",
    "from neo4j import GraphDatabase"
   ]
  },
  {
   "cell_type": "code",
   "execution_count": 125,
   "metadata": {},
   "outputs": [],
   "source": [
    "try:\n",
    "  import google.colab\n",
    "  from google.colab import output\n",
    "  output.enable_custom_widget_manager()\n",
    "except:\n",
    "  pass"
   ]
  },
  {
   "cell_type": "code",
   "execution_count": 126,
   "metadata": {},
   "outputs": [],
   "source": [
    "\n",
    "def showGraph(cypher: str = default_cypher):\n",
    "    # create a neo4j session to run queries\n",
    "    driver = GraphDatabase.driver(\n",
    "        uri = os.environ[\"NEO4J_URI\"],\n",
    "        auth = (os.environ[\"NEO4J_USERNAME\"],\n",
    "                os.environ[\"NEO4J_PASSWORD\"]))\n",
    "    session = driver.session()\n",
    "    widget = GraphWidget(graph = session.run(cypher).graph())\n",
    "    widget.node_label_mapping = 'id'\n",
    "    display(widget)\n",
    "    return widget"
   ]
  },
  {
   "cell_type": "code",
   "execution_count": 127,
   "metadata": {},
   "outputs": [
    {
     "data": {
      "application/vnd.jupyter.widget-view+json": {
       "model_id": "f1dffa0308fc433fafa3ba8c6dbf2353",
       "version_major": 2,
       "version_minor": 0
      },
      "text/plain": [
       "GraphWidget(layout=Layout(height='800px', width='100%'))"
      ]
     },
     "metadata": {},
     "output_type": "display_data"
    },
    {
     "data": {
      "application/vnd.jupyter.widget-view+json": {
       "model_id": "f1dffa0308fc433fafa3ba8c6dbf2353",
       "version_major": 2,
       "version_minor": 0
      },
      "text/plain": [
       "GraphWidget(layout=Layout(height='800px', width='100%'))"
      ]
     },
     "metadata": {},
     "output_type": "display_data"
    }
   ],
   "source": [
    "showGraph()"
   ]
  },
  {
   "cell_type": "code",
   "execution_count": 128,
   "metadata": {},
   "outputs": [],
   "source": [
    "\n",
    "from typing import Tuple, List, Optional"
   ]
  },
  {
   "cell_type": "code",
   "execution_count": 129,
   "metadata": {},
   "outputs": [],
   "source": [
    "from langchain_community.vectorstores import Neo4jVector"
   ]
  },
  {
   "cell_type": "code",
   "execution_count": 133,
   "metadata": {},
   "outputs": [
    {
     "name": "stdout",
     "output_type": "stream",
     "text": [
      "✅ Neo4j Vector Index Created Successfully with 4096 dimensions\n"
     ]
    }
   ],
   "source": [
    "from langchain_community.vectorstores import Neo4jVector\n",
    "from langchain_community.embeddings import OllamaEmbeddings\n",
    "\n",
    "# Use Mistral embeddings (4096 dimensions)\n",
    "ollama_embeddings = OllamaEmbeddings(model=\"mistral\")\n",
    "\n",
    "# Ensure both indexes reference the same node label (Chunk)\n",
    "vector_index = Neo4jVector.from_existing_graph(\n",
    "    ollama_embeddings,\n",
    "    search_type=\"hybrid\",\n",
    "    node_label=\"Chunk\",  # Must match both indexes\n",
    "    text_node_properties=[\"text\"],\n",
    "    embedding_node_property=\"embedding\"\n",
    ")\n",
    "\n",
    "print(\"✅ Neo4j Vector Index Created Successfully with 4096 dimensions\")"
   ]
  },
  {
   "cell_type": "code",
   "execution_count": 134,
   "metadata": {},
   "outputs": [
    {
     "data": {
      "text/plain": [
       "[]"
      ]
     },
     "execution_count": 134,
     "metadata": {},
     "output_type": "execute_result"
    }
   ],
   "source": [
    "graph.query(\"CREATE FULLTEXT INDEX entity IF NOT EXISTS FOR (e:__Entity__) ON EACH [e.id]\")"
   ]
  },
  {
   "cell_type": "code",
   "execution_count": 135,
   "metadata": {},
   "outputs": [
    {
     "name": "stderr",
     "output_type": "stream",
     "text": [
      "/Library/Frameworks/Python.framework/Versions/3.12/lib/python3.12/site-packages/IPython/core/interactiveshell.py:3577: LangChainDeprecationWarning: As of langchain-core 0.3.0, LangChain uses pydantic v2 internally. The langchain_core.pydantic_v1 module was a compatibility shim for pydantic v1, and should no longer be used. Please update the code to import from Pydantic directly.\n",
      "\n",
      "For example, replace imports like: `from langchain_core.pydantic_v1 import BaseModel`\n",
      "with: `from pydantic import BaseModel`\n",
      "or the v1 compatibility namespace if you are working in a code base that has not been fully upgraded to pydantic 2 yet. \tfrom pydantic.v1 import BaseModel\n",
      "\n",
      "  exec(code_obj, self.user_global_ns, self.user_ns)\n"
     ]
    }
   ],
   "source": [
    "from langchain_core.pydantic_v1 import BaseModel, Field\n",
    "# Extract entities from text\n",
    "class Entities(BaseModel):\n",
    "    \"\"\"Identifying information about entities.\"\"\"\n",
    "\n",
    "    names: List[str] = Field(\n",
    "        ...,\n",
    "        description=\"All the person, organization, or business entities that \"\n",
    "        \"appear in the text\",\n",
    "    )\n"
   ]
  },
  {
   "cell_type": "code",
   "execution_count": 136,
   "metadata": {},
   "outputs": [],
   "source": [
    "from langchain_core.prompts import ChatPromptTemplate\n",
    "from langchain_core.prompts.prompt import PromptTemplate"
   ]
  },
  {
   "cell_type": "code",
   "execution_count": 137,
   "metadata": {},
   "outputs": [],
   "source": [
    "prompt = ChatPromptTemplate.from_messages(\n",
    "    [\n",
    "        (\n",
    "            \"system\",\n",
    "            \"You are extracting organization and person entities from the text.\",\n",
    "        ),\n",
    "        (\n",
    "            \"human\",\n",
    "            \"Use the given format to extract information from the following \"\n",
    "            \"input: {question}\",\n",
    "        ),\n",
    "    ]\n",
    ")\n",
    "   "
   ]
  },
  {
   "cell_type": "code",
   "execution_count": 144,
   "metadata": {},
   "outputs": [
    {
     "name": "stdout",
     "output_type": "stream",
     "text": [
      "Collecting ollama\n",
      "  Downloading ollama-0.4.7-py3-none-any.whl.metadata (4.7 kB)\n",
      "Requirement already satisfied: httpx<0.29,>=0.27 in /Library/Frameworks/Python.framework/Versions/3.12/lib/python3.12/site-packages (from ollama) (0.27.2)\n",
      "Requirement already satisfied: pydantic<3.0.0,>=2.9.0 in /Library/Frameworks/Python.framework/Versions/3.12/lib/python3.12/site-packages (from ollama) (2.10.6)\n",
      "Requirement already satisfied: anyio in /Library/Frameworks/Python.framework/Versions/3.12/lib/python3.12/site-packages (from httpx<0.29,>=0.27->ollama) (4.6.2.post1)\n",
      "Requirement already satisfied: certifi in /Library/Frameworks/Python.framework/Versions/3.12/lib/python3.12/site-packages (from httpx<0.29,>=0.27->ollama) (2025.1.31)\n",
      "Requirement already satisfied: httpcore==1.* in /Library/Frameworks/Python.framework/Versions/3.12/lib/python3.12/site-packages (from httpx<0.29,>=0.27->ollama) (1.0.6)\n",
      "Requirement already satisfied: idna in /Library/Frameworks/Python.framework/Versions/3.12/lib/python3.12/site-packages (from httpx<0.29,>=0.27->ollama) (3.10)\n",
      "Requirement already satisfied: sniffio in /Library/Frameworks/Python.framework/Versions/3.12/lib/python3.12/site-packages (from httpx<0.29,>=0.27->ollama) (1.3.1)\n",
      "Requirement already satisfied: h11<0.15,>=0.13 in /Library/Frameworks/Python.framework/Versions/3.12/lib/python3.12/site-packages (from httpcore==1.*->httpx<0.29,>=0.27->ollama) (0.14.0)\n",
      "Requirement already satisfied: annotated-types>=0.6.0 in /Library/Frameworks/Python.framework/Versions/3.12/lib/python3.12/site-packages (from pydantic<3.0.0,>=2.9.0->ollama) (0.7.0)\n",
      "Requirement already satisfied: pydantic-core==2.27.2 in /Library/Frameworks/Python.framework/Versions/3.12/lib/python3.12/site-packages (from pydantic<3.0.0,>=2.9.0->ollama) (2.27.2)\n",
      "Requirement already satisfied: typing-extensions>=4.12.2 in /Library/Frameworks/Python.framework/Versions/3.12/lib/python3.12/site-packages (from pydantic<3.0.0,>=2.9.0->ollama) (4.12.2)\n",
      "Downloading ollama-0.4.7-py3-none-any.whl (13 kB)\n",
      "Installing collected packages: ollama\n",
      "Successfully installed ollama-0.4.7\n",
      "\n",
      "\u001b[1m[\u001b[0m\u001b[34;49mnotice\u001b[0m\u001b[1;39;49m]\u001b[0m\u001b[39;49m A new release of pip is available: \u001b[0m\u001b[31;49m24.3.1\u001b[0m\u001b[39;49m -> \u001b[0m\u001b[32;49m25.0.1\u001b[0m\n",
      "\u001b[1m[\u001b[0m\u001b[34;49mnotice\u001b[0m\u001b[1;39;49m]\u001b[0m\u001b[39;49m To update, run: \u001b[0m\u001b[32;49mpip install --upgrade pip\u001b[0m\n"
     ]
    }
   ],
   "source": [
    "!pip3 install ollama"
   ]
  },
  {
   "cell_type": "code",
   "execution_count": 149,
   "metadata": {},
   "outputs": [
    {
     "name": "stdout",
     "output_type": "stream",
     "text": [
      "['Amelia Earhart']\n"
     ]
    }
   ],
   "source": [
    "import json\n",
    "import ollama\n",
    "\n",
    "# Define the input question\n",
    "input_question = \"Where was Amelia Earhart born?\"\n",
    "\n",
    "# Create a structured prompt enforcing JSON list output\n",
    "prompt = f\"\"\"\n",
    "You are an AI that extracts entity names.\n",
    "Return **only** a JSON list of entity names, nothing else.\n",
    "\n",
    "### Output Format:\n",
    "[\"entity1\", \"entity2\", ...]\n",
    "\n",
    "Input: \"{input_question}\"\n",
    "Output:\n",
    "\"\"\"\n",
    "\n",
    "# Call Mistral using Ollama\n",
    "response = ollama.chat(model=\"mistral\", messages=[{\"role\": \"user\", \"content\": prompt}])\n",
    "\n",
    "# Extract and parse response\n",
    "response_text = response['message']['content'].strip()\n",
    "\n",
    "try:\n",
    "    entity_names = json.loads(response_text)  # Convert response to Python list\n",
    "    print(entity_names)  # Equivalent to `.names`\n",
    "except json.JSONDecodeError:\n",
    "    print(\"Model did not return valid JSON. Raw output:\", response_text)"
   ]
  },
  {
   "cell_type": "code",
   "execution_count": 150,
   "metadata": {},
   "outputs": [],
   "source": [
    "from langchain_community.vectorstores.neo4j_vector import remove_lucene_chars"
   ]
  },
  {
   "cell_type": "code",
   "execution_count": 162,
   "metadata": {},
   "outputs": [
    {
     "name": "stdout",
     "output_type": "stream",
     "text": [
      "🔍 Search Query: Which house did Elizabeth I belong to?\n",
      "🔍 Structured Search Query: Which house did Elizabeth I belong to?\n",
      "🔹 Raw response from Mistral: [\"Elizabeth I\"]\n"
     ]
    },
    {
     "name": "stderr",
     "output_type": "stream",
     "text": [
      "Received notification from DBMS server: {severity: WARNING} {code: Neo.ClientNotification.Statement.FeatureDeprecationWarning} {category: DEPRECATION} {title: This feature is deprecated and will be removed in future versions.} {description: CALL subquery without a variable scope clause is now deprecated. Use CALL (node) { ... }} {position: line: 3, column: 13, offset: 105} for query: \"CALL db.index.fulltext.queryNodes('entity', $query, {limit:2})\\n            YIELD node, score\\n            CALL {\\n              WITH node\\n              MATCH (node)-[r:!MENTIONS]->(neighbor)\\n              RETURN node.id + ' - ' + type(r) + ' -> ' + neighbor.id AS output\\n              UNION ALL\\n              MATCH (node)<-[r:!MENTIONS]-(neighbor)\\n              RETURN neighbor.id + ' - ' + type(r) + ' -> ' + node.id AS output\\n            } WITH output\\n            RETURN output LIMIT 50\\n            \"\n",
      "Received notification from DBMS server: {severity: WARNING} {code: Neo.ClientNotification.Statement.FeatureDeprecationWarning} {category: DEPRECATION} {title: This feature is deprecated and will be removed in future versions.} {description: CALL subquery without a variable scope clause is now deprecated. Use CALL () { ... }} {position: line: 1, column: 1, offset: 0} for query: \"CALL { CALL db.index.vector.queryNodes($index, $k, $embedding) YIELD node, score WITH collect({node:node, score:score}) AS nodes, max(score) AS max UNWIND nodes AS n RETURN n.node AS node, (n.score / max) AS score UNION CALL db.index.fulltext.queryNodes($keyword_index, $query, {limit: $k}) YIELD node, score WITH collect({node:node, score:score}) AS nodes, max(score) AS max UNWIND nodes AS n RETURN n.node AS node, (n.score / max) AS score } WITH node, max(score) AS score ORDER BY score DESC LIMIT $k RETURN reduce(str='', k IN ['text'] | str + '\\\\n' + k + ': ' + coalesce(node[k], '')) AS text, node {.*, `embedding`: Null, id: Null, `text`: Null} AS metadata, score\"\n"
     ]
    },
    {
     "name": "stdout",
     "output_type": "stream",
     "text": [
      " Elizabeth I belonged to the House of Tudor.\n",
      "🔍 Search Query:  At what year was Elizabeth I born?\n",
      "🔍 Structured Search Query:  At what year was Elizabeth I born?\n"
     ]
    },
    {
     "name": "stderr",
     "output_type": "stream",
     "text": [
      "Received notification from DBMS server: {severity: WARNING} {code: Neo.ClientNotification.Statement.FeatureDeprecationWarning} {category: DEPRECATION} {title: This feature is deprecated and will be removed in future versions.} {description: CALL subquery without a variable scope clause is now deprecated. Use CALL (node) { ... }} {position: line: 3, column: 13, offset: 105} for query: \"CALL db.index.fulltext.queryNodes('entity', $query, {limit:2})\\n            YIELD node, score\\n            CALL {\\n              WITH node\\n              MATCH (node)-[r:!MENTIONS]->(neighbor)\\n              RETURN node.id + ' - ' + type(r) + ' -> ' + neighbor.id AS output\\n              UNION ALL\\n              MATCH (node)<-[r:!MENTIONS]-(neighbor)\\n              RETURN neighbor.id + ' - ' + type(r) + ' -> ' + node.id AS output\\n            } WITH output\\n            RETURN output LIMIT 50\\n            \"\n"
     ]
    },
    {
     "name": "stdout",
     "output_type": "stream",
     "text": [
      "🔹 Raw response from Mistral: [\"Elizabeth I\"]\n"
     ]
    },
    {
     "name": "stderr",
     "output_type": "stream",
     "text": [
      "Received notification from DBMS server: {severity: WARNING} {code: Neo.ClientNotification.Statement.FeatureDeprecationWarning} {category: DEPRECATION} {title: This feature is deprecated and will be removed in future versions.} {description: CALL subquery without a variable scope clause is now deprecated. Use CALL () { ... }} {position: line: 1, column: 1, offset: 0} for query: \"CALL { CALL db.index.vector.queryNodes($index, $k, $embedding) YIELD node, score WITH collect({node:node, score:score}) AS nodes, max(score) AS max UNWIND nodes AS n RETURN n.node AS node, (n.score / max) AS score UNION CALL db.index.fulltext.queryNodes($keyword_index, $query, {limit: $k}) YIELD node, score WITH collect({node:node, score:score}) AS nodes, max(score) AS max UNWIND nodes AS n RETURN n.node AS node, (n.score / max) AS score } WITH node, max(score) AS score ORDER BY score DESC LIMIT $k RETURN reduce(str='', k IN ['text'] | str + '\\\\n' + k + ': ' + coalesce(node[k], '')) AS text, node {.*, `embedding`: Null, id: Null, `text`: Null} AS metadata, score\"\n"
     ]
    },
    {
     "name": "stdout",
     "output_type": "stream",
     "text": [
      " Elizabeth I was born on 7 September 1533.\n"
     ]
    }
   ],
   "source": [
    "import ollama\n",
    "import json\n",
    "from langchain_neo4j.vectorstores.neo4j_vector import remove_lucene_chars\n",
    "from typing import List, Tuple\n",
    "from langchain.schema import HumanMessage, AIMessage\n",
    "from langchain_core.prompts import PromptTemplate, ChatPromptTemplate\n",
    "from langchain_core.runnables import RunnableBranch, RunnableLambda, RunnablePassthrough, RunnableParallel\n",
    "from langchain_core.output_parsers import StrOutputParser\n",
    "\n",
    "# Function to generate a full-text search query\n",
    "def generate_full_text_query(input: str) -> str:\n",
    "    words = [el for el in remove_lucene_chars(input).split() if el]\n",
    "    full_text_query = \" AND \".join([f\"{word}~2\" for word in words])\n",
    "    return full_text_query.strip()\n",
    "\n",
    "# Function to extract entities using Mistral (Ollama)\n",
    "def extract_entities(question: str):\n",
    "    stop_words = {\"house\", \"city\", \"place\", \"country\", \"state\", \"thing\", \"object\", \"concept\"}  # Common irrelevant words\n",
    "    prompt = f\"\"\"\n",
    "    You are an AI that extracts entity names from text.\n",
    "    Return only a JSON list of **proper entity names** (people, organizations, historical events). \n",
    "    Do NOT include generic words like 'house', 'place', 'country', 'state'.\n",
    "\n",
    "    ### Output Format:\n",
    "    [\"entity1\", \"entity2\", ...]\n",
    "\n",
    "    Input: \"{question}\"\n",
    "    Output:\n",
    "    \"\"\"\n",
    "\n",
    "    response = ollama.chat(model=\"mistral\", messages=[{\"role\": \"user\", \"content\": prompt}])\n",
    "    response_text = response['message']['content'].strip()\n",
    "\n",
    "    print(\"🔹 Raw response from Mistral:\", response_text)  # Debugging output\n",
    "\n",
    "    try:\n",
    "        entities = json.loads(response_text)\n",
    "        if isinstance(entities, list):\n",
    "            return [e for e in entities if e.lower() not in stop_words]  # Remove stop words\n",
    "    except json.JSONDecodeError:\n",
    "        print(\"❌ Model did not return valid JSON. Raw output:\", response_text)\n",
    "\n",
    "    return []\n",
    "\n",
    "# Function to retrieve structured knowledge from Neo4j\n",
    "def structured_retriever(question: str) -> str:\n",
    "    print(f\"🔍 Structured Search Query: {question}\")\n",
    "    result = \"\"\n",
    "    entities = extract_entities(question)  # Extract entities using Mistral\n",
    "\n",
    "    if not entities:\n",
    "        print(\"⚠️ No entities extracted. Check Mistral response format.\")\n",
    "        return \"\"\n",
    "\n",
    "    for entity in entities:\n",
    "        response = graph.query(\n",
    "            \"\"\"CALL db.index.fulltext.queryNodes('entity', $query, {limit:2})\n",
    "            YIELD node, score\n",
    "            CALL {\n",
    "              WITH node\n",
    "              MATCH (node)-[r:!MENTIONS]->(neighbor)\n",
    "              RETURN node.id + ' - ' + type(r) + ' -> ' + neighbor.id AS output\n",
    "              UNION ALL\n",
    "              MATCH (node)<-[r:!MENTIONS]-(neighbor)\n",
    "              RETURN neighbor.id + ' - ' + type(r) + ' -> ' + node.id AS output\n",
    "            } WITH output\n",
    "            RETURN output LIMIT 50\n",
    "            \"\"\",\n",
    "            {\"query\": generate_full_text_query(entity)},\n",
    "        )\n",
    "        result += \"\\n\".join([el['output'] for el in response])\n",
    "    \n",
    "    return result\n",
    "\n",
    "# Unified retriever function (Structured + Unstructured Data)\n",
    "def retriever(question: str):\n",
    "    print(f\"🔍 Search Query: {question}\")\n",
    "    structured_data = structured_retriever(question)  # Retrieve structured knowledge from Neo4j\n",
    "    unstructured_data = [el.page_content for el in vector_index.similarity_search(question)]  # Retrieve from Vector DB\n",
    "    final_data = f\"\"\"Structured data:\n",
    "{structured_data}\n",
    "Unstructured data:\n",
    "{\"#Document \". join(unstructured_data)}\n",
    "    \"\"\"\n",
    "    return final_data\n",
    "\n",
    "# Prompt Template for Condensing Follow-Up Questions\n",
    "_template = \"\"\"Given the following conversation and a follow-up question, rephrase the follow-up question to be a standalone question, in its original language.\n",
    "Chat History:\n",
    "{chat_history}\n",
    "Follow Up Input: {question}\n",
    "Standalone question:\"\"\"\n",
    "\n",
    "CONDENSE_QUESTION_PROMPT = PromptTemplate.from_template(_template)\n",
    "\n",
    "# Format chat history for input processing\n",
    "def _format_chat_history(chat_history: List[Tuple[str, str]]) -> List:\n",
    "    buffer = []\n",
    "    for human, ai in chat_history:\n",
    "        buffer.append(HumanMessage(content=human))\n",
    "        buffer.append(AIMessage(content=ai))\n",
    "    return buffer\n",
    "\n",
    "# Determines if a follow-up question needs to be converted into a standalone question\n",
    "_search_query = RunnableBranch(\n",
    "    # If chat history exists, condense the question\n",
    "    (\n",
    "        RunnableLambda(lambda x: bool(x.get(\"chat_history\"))).with_config(run_name=\"HasChatHistoryCheck\"),\n",
    "        RunnablePassthrough.assign(\n",
    "            chat_history=lambda x: _format_chat_history(x[\"chat_history\"])\n",
    "        )\n",
    "        | CONDENSE_QUESTION_PROMPT\n",
    "        | (lambda x: ollama.chat(model=\"mistral\", messages=[{\"role\": \"user\", \"content\": x.to_string()}])['message']['content'])  # Convert to string\n",
    "        | StrOutputParser(),\n",
    "    ),\n",
    "    # Else, use the question directly\n",
    "    RunnableLambda(lambda x : x[\"question\"]),\n",
    ")\n",
    "\n",
    "# Template for generating final answer\n",
    "template = \"\"\"Answer the question based only on the following context:\n",
    "{context}\n",
    "\n",
    "Question: {question}\n",
    "Use natural language and be concise.\n",
    "Answer:\"\"\"\n",
    "\n",
    "prompt = ChatPromptTemplate.from_template(template)\n",
    "\n",
    "# Runnable Chain to Retrieve Data & Generate Answers\n",
    "chain = (\n",
    "    RunnableParallel(\n",
    "        {\n",
    "            \"context\": _search_query | retriever,\n",
    "            \"question\": RunnablePassthrough(),\n",
    "        }\n",
    "    )\n",
    "    | prompt\n",
    "    | (lambda x: ollama.chat(model=\"mistral\", messages=[{\"role\": \"user\", \"content\": x.to_string()}])['message']['content'])  # Convert to string before sending\n",
    "    | StrOutputParser()\n",
    ")\n",
    "\n",
    "# Running the pipeline for an initial query\n",
    "print(chain.invoke({\"question\": \"Which house did Elizabeth I belong to?\"}))\n",
    "\n",
    "# Running the pipeline with follow-up history\n",
    "print(chain.invoke(\n",
    "    {\n",
    "        \"question\": \"When was she born?\",\n",
    "        \"chat_history\": [(\"Which house did Elizabeth I belong to?\", \"House Of Tudor\")],\n",
    "    }\n",
    "))"
   ]
  },
  {
   "cell_type": "code",
   "execution_count": null,
   "metadata": {},
   "outputs": [],
   "source": []
  }
 ],
 "metadata": {
  "kernelspec": {
   "display_name": "Python 3",
   "language": "python",
   "name": "python3"
  },
  "language_info": {
   "codemirror_mode": {
    "name": "ipython",
    "version": 3
   },
   "file_extension": ".py",
   "mimetype": "text/x-python",
   "name": "python",
   "nbconvert_exporter": "python",
   "pygments_lexer": "ipython3",
   "version": "3.12.5"
  }
 },
 "nbformat": 4,
 "nbformat_minor": 2
}
