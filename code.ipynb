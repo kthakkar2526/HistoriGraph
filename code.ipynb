{
 "cells": [
  {
   "cell_type": "code",
   "execution_count": null,
   "metadata": {},
   "outputs": [],
   "source": [
    "!pip3 install --upgrade --quiet  langchain langchain-community langchain-openai langchain-experimental neo4j wikipedia tiktoken yfiles_jupyter_graphs     "
   ]
  },
  {
   "cell_type": "code",
   "execution_count": null,
   "metadata": {},
   "outputs": [],
   "source": [
    "!pip3 install langchain-google-genai google-generativeai"
   ]
  },
  {
   "cell_type": "code",
   "execution_count": null,
   "metadata": {},
   "outputs": [],
   "source": [
    "from langchain_google_genai import ChatGoogleGenerativeAI"
   ]
  },
  {
   "cell_type": "code",
   "execution_count": null,
   "metadata": {},
   "outputs": [],
   "source": [
    "from langchain_community.graphs import Neo4jGraph"
   ]
  },
  {
   "cell_type": "code",
   "execution_count": null,
   "metadata": {},
   "outputs": [],
   "source": [
    "from dotenv import load_dotenv\n",
    "load_dotenv()\n",
    "\n",
    "import os\n",
    "GEMINI_API_KEY = os.getenv(\"GEMINI_API_KEY\")"
   ]
  },
  {
   "cell_type": "code",
   "execution_count": null,
   "metadata": {},
   "outputs": [],
   "source": [
    "NEO4J_URI=\"neo4j+s://2c755919.databases.neo4j.io\"\n",
    "NEO4J_USERNAME=\"neo4j\"\n",
    "NEO4J_PASSWORD=\"RGUjiPrFzwTsjFig0gc743rKroP-PqLYPc0q7fvcSEM\""
   ]
  },
  {
   "cell_type": "code",
   "execution_count": null,
   "metadata": {},
   "outputs": [],
   "source": [
    "import os"
   ]
  },
  {
   "cell_type": "code",
   "execution_count": null,
   "metadata": {},
   "outputs": [],
   "source": [
    "os.environ['NEO4J_URI'] = NEO4J_URI\n",
    "os.environ['NEO4J_USERNAME'] = NEO4J_USERNAME\n",
    "os.environ['NEO4J_PASSWORD'] = NEO4J_PASSWORD   \n",
    "os.environ['GEMINI_API_KEY'] = GEMINI_API_KEY"
   ]
  },
  {
   "cell_type": "code",
   "execution_count": null,
   "metadata": {},
   "outputs": [],
   "source": [
    "graph = Neo4jGraph()"
   ]
  },
  {
   "cell_type": "code",
   "execution_count": null,
   "metadata": {},
   "outputs": [],
   "source": [
    "from langchain.document_loaders import WikipediaLoader\n",
    "raw_documents = WikipediaLoader(query='Elizabeth I').load()"
   ]
  },
  {
   "cell_type": "code",
   "execution_count": null,
   "metadata": {},
   "outputs": [],
   "source": [
    "len(raw_documents)"
   ]
  },
  {
   "cell_type": "code",
   "execution_count": null,
   "metadata": {},
   "outputs": [],
   "source": [
    "from langchain.text_splitter import TokenTextSplitter\n",
    "text_splitter = TokenTextSplitter(chunk_size=512, chunk_overlap=24)\n",
    "documents = text_splitter.split_documents(raw_documents[:3])"
   ]
  },
  {
   "cell_type": "code",
   "execution_count": null,
   "metadata": {},
   "outputs": [],
   "source": [
    "llm = ChatGoogleGenerativeAI(api_key=GEMINI_API_KEY, model='gemini-2.0-flash-exp')"
   ]
  },
  {
   "cell_type": "code",
   "execution_count": null,
   "metadata": {},
   "outputs": [],
   "source": [
    "!pip3 install langchain_experimental"
   ]
  },
  {
   "cell_type": "code",
   "execution_count": null,
   "metadata": {},
   "outputs": [],
   "source": [
    "!pip3 show langchain_experimental"
   ]
  },
  {
   "cell_type": "code",
   "execution_count": null,
   "metadata": {},
   "outputs": [],
   "source": [
    "from langchain_experimental.graph_transformers import LLMGraphTransformer\n",
    "llm_transformers = LLMGraphTransformer(llm=llm)"
   ]
  },
  {
   "cell_type": "code",
   "execution_count": null,
   "metadata": {},
   "outputs": [],
   "source": [
    "def process_documents(documents):\n",
    "    processed_docs = []\n",
    "    for doc in documents:\n",
    "        response = llm.invoke(f\"Extract relationships and nodes from this document: {doc}\")\n",
    "        processed_docs.append(response)\n",
    "    return processed_docs\n",
    "\n",
    "# Call function on documents\n",
    "graph_documents = process_documents(documents)\n",
    "print(graph_documents)"
   ]
  },
  {
   "cell_type": "code",
   "execution_count": null,
   "metadata": {},
   "outputs": [],
   "source": [
    "print(type(graph_documents))\n",
    "print(graph_documents)"
   ]
  },
  {
   "cell_type": "code",
   "execution_count": null,
   "metadata": {},
   "outputs": [],
   "source": [
    "graph_documents = llm.invoke(f\"Convert these documents into a structured graph format: {documents}\")\n",
    "print(graph_documents)  # Check the response structure"
   ]
  },
  {
   "cell_type": "code",
   "execution_count": null,
   "metadata": {},
   "outputs": [],
   "source": [
    "import json\n",
    "import re\n",
    "\n",
    "# Extract the content from AIMessage\n",
    "raw_response = graph_documents.content\n",
    "\n",
    "# Remove markdown-style code block formatting\n",
    "clean_json = re.sub(r\"```json\\n|\\n```\", \"\", raw_response).strip()\n",
    "\n",
    "# Try parsing the cleaned JSON\n",
    "try:\n",
    "    structured_data = json.loads(clean_json)\n",
    "except json.JSONDecodeError as e:\n",
    "    print(\"JSON Parsing Error:\", e)\n",
    "    structured_data = {\"nodes\": [], \"relationships\": []}  # Default empty structure\n",
    "\n",
    "# Check parsed output\n",
    "print(structured_data)"
   ]
  },
  {
   "cell_type": "code",
   "execution_count": null,
   "metadata": {},
   "outputs": [],
   "source": [
    "import json\n",
    "\n",
    "# Pretty-print to check the full extracted structure\n",
    "print(json.dumps(structured_data, indent=2))"
   ]
  },
  {
   "cell_type": "code",
   "execution_count": null,
   "metadata": {},
   "outputs": [],
   "source": [
    "graph.add_graph_documents(structured_data, baseEntityLabel=True)"
   ]
  },
  {
   "cell_type": "code",
   "execution_count": null,
   "metadata": {},
   "outputs": [],
   "source": [
    "import json\n",
    "print(json.dumps(structured_data, indent=2))"
   ]
  },
  {
   "cell_type": "code",
   "execution_count": null,
   "metadata": {},
   "outputs": [],
   "source": [
    "for node in structured_data[\"nodes\"]:\n",
    "    if not isinstance(node.get(\"properties\"), dict):\n",
    "        node[\"properties\"] = {}  # Ensure properties is always a dictionary\n",
    "    node[\"properties\"].setdefault(\"source\", \"Generated by Gemini\")"
   ]
  },
  {
   "cell_type": "code",
   "execution_count": null,
   "metadata": {},
   "outputs": [],
   "source": [
    "for rel in structured_data[\"relationships\"]:\n",
    "    if not isinstance(rel, dict):\n",
    "        print(\"Error: Relationship is not a dictionary\", rel)\n",
    "        continue  # Skip invalid entries\n",
    "    rel.setdefault(\"source\", \"Generated by Gemini\")"
   ]
  },
  {
   "cell_type": "code",
   "execution_count": null,
   "metadata": {},
   "outputs": [],
   "source": [
    "print(json.dumps(structured_data, indent=2))  # Debug the full structure"
   ]
  },
  {
   "cell_type": "code",
   "execution_count": null,
   "metadata": {},
   "outputs": [],
   "source": [
    "structured_data.setdefault(\"relationships\", [])  # Ensure relationships key exists"
   ]
  },
  {
   "cell_type": "code",
   "execution_count": null,
   "metadata": {},
   "outputs": [],
   "source": [
    "# Validate nodes\n",
    "for node in structured_data[\"nodes\"]:\n",
    "    if not isinstance(node.get(\"properties\"), dict):\n",
    "        node[\"properties\"] = {}  # Ensure properties is always a dictionary\n",
    "    node[\"properties\"].setdefault(\"source\", \"Generated by Gemini\")  # Default source\n",
    "\n",
    "# Validate relationships\n",
    "if \"relationships\" in structured_data:  # Check if key exists\n",
    "    for rel in structured_data[\"relationships\"]:\n",
    "        if not isinstance(rel, dict):\n",
    "            print(\"Error: Relationship is not a dictionary\", rel)\n",
    "            continue  # Skip invalid entries\n",
    "        rel.setdefault(\"source\", \"Generated by Gemini\")"
   ]
  },
  {
   "cell_type": "code",
   "execution_count": null,
   "metadata": {},
   "outputs": [],
   "source": [
    "graph.add_graph_documents(structured_data, baseEntityLabel=True)"
   ]
  },
  {
   "cell_type": "code",
   "execution_count": null,
   "metadata": {},
   "outputs": [],
   "source": [
    "from langchain_community.graphs.graph_document import GraphDocument"
   ]
  },
  {
   "cell_type": "code",
   "execution_count": null,
   "metadata": {},
   "outputs": [],
   "source": [
    "from langchain_community.graphs.graph_document import GraphDocument\n",
    "\n",
    "# Ensure structured_data has the required keys\n",
    "structured_data.setdefault(\"nodes\", [])\n",
    "structured_data.setdefault(\"relationships\", [])\n",
    "\n",
    "graph_documents = []\n",
    "\n",
    "# Convert nodes to GraphDocument objects\n",
    "for node in structured_data[\"nodes\"]:\n",
    "    graph_documents.append(\n",
    "        GraphDocument(\n",
    "            page_content=str(node.get(\"id\", \"Unknown Entity\")),  # Ensure page_content is a string\n",
    "            metadata={\"label\": node.get(\"label\", \"Unknown\"), \"properties\": node.get(\"properties\", {})},\n",
    "            source={\"source\": node.get(\"properties\", {}).get(\"source\", \"Generated by Gemini\")}  # Ensure source is a valid dictionary\n",
    "        )\n",
    "    )\n",
    "\n",
    "# Convert relationships to GraphDocument objects\n",
    "for rel in structured_data[\"relationships\"]:\n",
    "    graph_documents.append(\n",
    "        GraphDocument(\n",
    "            page_content=f\"{rel.get('source', 'Unknown')} -[{rel.get('relation', 'Unknown')}]→ {rel.get('target', 'Unknown')}\",\n",
    "            metadata={\"relation\": rel.get(\"relation\", \"Unknown\"), \"source\": rel.get(\"source\", \"Unknown\"), \"target\": rel.get(\"target\", \"Unknown\")},\n",
    "            source={\"source\": \"Generated by Gemini\"}  # Ensure source is a valid dictionary\n",
    "        )\n",
    "    )\n",
    "\n",
    "# Add to Neo4j graph\n",
    "graph.add_graph_documents(graph_documents, baseEntityLabel=True)"
   ]
  },
  {
   "cell_type": "code",
   "execution_count": null,
   "metadata": {},
   "outputs": [],
   "source": []
  }
 ],
 "metadata": {
  "kernelspec": {
   "display_name": "Python 3",
   "language": "python",
   "name": "python3"
  },
  "language_info": {
   "codemirror_mode": {
    "name": "ipython",
    "version": 3
   },
   "file_extension": ".py",
   "mimetype": "text/x-python",
   "name": "python",
   "nbconvert_exporter": "python",
   "pygments_lexer": "ipython3",
   "version": "3.12.5"
  }
 },
 "nbformat": 4,
 "nbformat_minor": 2
}
